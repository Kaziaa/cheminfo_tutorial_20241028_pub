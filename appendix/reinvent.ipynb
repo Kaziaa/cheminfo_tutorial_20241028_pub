{
 "cells": [
  {
   "cell_type": "markdown",
   "metadata": {},
   "source": [
    "# REINVETにDocking Scoreを報酬関数として与えて学習させるWFの例\n",
    "- このワークフローは実行時間がかかるため当日のチュートリアルでの実施はしません。\n",
    "- REINVENT4内の環境下で利用するPandasが2.2.0以上の場合エラーが起きるので実施する場合は、Pandasのバージョンを確認してください。\n",
    "- 以下のリンクで提供されるコードをベースにしていますが、一部エラー回避のため修正しています。\n",
    "- https://github.com/MolecularAI/maize-contrib/tree/public/maize/steps/mai/misc/data\n",
    "- DockingプログラムはVINAを利用します。"
   ]
  },
  {
   "attachments": {},
   "cell_type": "markdown",
   "metadata": {},
   "source": [
    "# Docking with REINVENT\n",
    "\n",
    "This is an example of how to use REINVENT with Maize in a reinforcement learning workflow. This is a more advanced workflow, for the Maize basics see the plain docking workflows without REINVENT. The idea here is to use a dedicated node for REINVENT generating SMILES and receiving scores. The scores are generated through docking, with a subset of ligands sent to a high-precision docking node performing a more thorough search through poses."
   ]
  },
  {
   "attachments": {},
   "cell_type": "markdown",
   "metadata": {},
   "source": [
    ".. caution::\n",
    "   This is an example workflow not meant for production use, none of the settings are optimised for scientific accuracy or efficiency. It is only meant to showcase Maize's complex workflow capabilities."
   ]
  },
  {
   "attachments": {},
   "cell_type": "markdown",
   "metadata": {},
   "source": [
    "## Imports\n",
    "\n",
    "We begin with all top-level requirements and imports, and ensure our software dependencies are setup correctly."
   ]
  },
  {
   "cell_type": "code",
   "execution_count": null,
   "metadata": {
    "execution": {
     "iopub.execute_input": "2024-10-27T10:01:21.275631Z",
     "iopub.status.busy": "2024-10-27T10:01:21.275262Z",
     "iopub.status.idle": "2024-10-27T10:01:21.692465Z",
     "shell.execute_reply": "2024-10-27T10:01:21.691960Z",
     "shell.execute_reply.started": "2024-10-27T10:01:21.275614Z"
    }
   },
   "outputs": [],
   "source": [
    "from pathlib import Path\n",
    "\n",
    "from maize.core.workflow import Workflow\n",
    "from maize.steps.io import LoadData, LogResult, Return, Void\n",
    "from maize.steps.plumbing import MergeLists\n",
    "from maize.steps.mai.cheminformatics import RMSD, ExtractScores, TagIndex, SortByTag, TagSorter, LogTags\n",
    "from maize.steps.mai.docking.adv import Vina\n",
    "from maize.steps.mai.molecule import Gypsum, LoadMolecule\n",
    "from maize.steps.mai.misc import ReInvent\n",
    "from maize.utilities.chem import IsomerCollection"
   ]
  },
  {
   "attachments": {},
   "cell_type": "markdown",
   "metadata": {},
   "source": [
    "## Workflow\n",
    "We use the same configuration as before, note that you will need to setup the required software yourself."
   ]
  },
  {
   "cell_type": "code",
   "execution_count": null,
   "metadata": {
    "execution": {
     "iopub.execute_input": "2024-10-27T10:01:22.354300Z",
     "iopub.status.busy": "2024-10-27T10:01:22.354054Z",
     "iopub.status.idle": "2024-10-27T10:01:22.388203Z",
     "shell.execute_reply": "2024-10-27T10:01:22.387699Z",
     "shell.execute_reply.started": "2024-10-27T10:01:22.354289Z"
    }
   },
   "outputs": [],
   "source": [
    "flow = Workflow(name=\"dock\", level=\"info\", cleanup_temp=False, logfile=\"mai.log\")\n",
    "flow.config.update(Path(\"docking-example-config.toml\"))"
   ]
  },
  {
   "attachments": {},
   "cell_type": "markdown",
   "metadata": {},
   "source": [
    "We begin by creating all the required nodes. The workflow will be circular, with the `ReInvent` node creating SMILES and accepting scores. Because our list of molecules will be split after the first docking and later re-merged, we need to keep track of the order of molecules. We do this by setting the index for each molecule as a tag (`TagIndex`), and later sorting the final list based on this tag (`SortByTag`). The RMSD, with which we determine if a molecule should be sent to a more accurate docking node, essentially acts as a scoring function. `TagSorter` can then decide where to send subsets of the molecules. Finally, the lists of molecules are merged (`MergeLists`) and sorted (`SortByTag`) to restore the original order given by Reinvent."
   ]
  },
  {
   "cell_type": "markdown",
   "metadata": {},
   "source": [
    "- Vinaノードにはout_scoresという属性はないため、コメントアウトしています。"
   ]
  },
  {
   "cell_type": "code",
   "execution_count": null,
   "metadata": {
    "execution": {
     "iopub.execute_input": "2024-10-27T10:01:23.101621Z",
     "iopub.status.busy": "2024-10-27T10:01:23.101430Z",
     "iopub.status.idle": "2024-10-27T10:01:23.307619Z",
     "shell.execute_reply": "2024-10-27T10:01:23.307252Z",
     "shell.execute_reply.started": "2024-10-27T10:01:23.101611Z"
    }
   },
   "outputs": [],
   "source": [
    "rnve = flow.add(ReInvent)\n",
    "embe = flow.add(Gypsum, loop=True)\n",
    "indx = flow.add(TagIndex, loop=True)\n",
    "dock = flow.add(Vina, loop=True)\n",
    "#void = flow.add(Void)\n",
    "load = flow.add(LoadMolecule)\n",
    "rmsd = flow.add(RMSD, loop=True)\n",
    "logt = flow.add(LogTags, loop=True)\n",
    "sort = flow.add(TagSorter, loop=True)\n",
    "dock_hp = flow.add(Vina, name=\"dock-hp\", loop=True)\n",
    "#void_hp = flow.add(Void, name=\"void-hp\", loop=True)\n",
    "merg = flow.add(MergeLists[IsomerCollection])\n",
    "sort_id = flow.add(SortByTag, loop=True)\n",
    "scor = flow.add(ExtractScores, loop=True)"
   ]
  },
  {
   "attachments": {},
   "cell_type": "markdown",
   "metadata": {},
   "source": [
    "Three separate calls to `flow.connect_all()` are required to get static typing on inputs and outputs. If you don't care about this you can just make a single call. This is an unfortunate limitation of the python typing system and may be resolved in the future."
   ]
  },
  {
   "cell_type": "code",
   "execution_count": null,
   "metadata": {
    "execution": {
     "iopub.execute_input": "2024-10-27T10:01:24.454692Z",
     "iopub.status.busy": "2024-10-27T10:01:24.454520Z",
     "iopub.status.idle": "2024-10-27T10:01:24.465649Z",
     "shell.execute_reply": "2024-10-27T10:01:24.465357Z",
     "shell.execute_reply.started": "2024-10-27T10:01:24.454682Z"
    }
   },
   "outputs": [],
   "source": [
    "flow.connect_all(\n",
    "    (rnve.out, embe.inp),\n",
    "    (embe.out, indx.inp),\n",
    "    (indx.out, dock.inp),\n",
    "    #(dock.out_scores, void.inp),\n",
    "    (dock.out, rmsd.inp),\n",
    "    (load.out, rmsd.inp_ref),\n",
    ")\n",
    "flow.connect_all(\n",
    "    (rmsd.out, logt.inp),\n",
    "    (logt.out, sort.inp),\n",
    "    (sort.out, merg.inp),\n",
    "    (sort.out, dock_hp.inp),\n",
    "    #(dock_hp.out_scores, void_hp.inp),\n",
    "    (dock_hp.out, merg.inp),\n",
    ")\n",
    "flow.connect_all(\n",
    "    (merg.out, sort_id.inp),\n",
    "    (sort_id.out, scor.inp),\n",
    "    (scor.out, rnve.inp),\n",
    ")"
   ]
  },
  {
   "attachments": {},
   "cell_type": "markdown",
   "metadata": {},
   "source": [
    "### Parameters\n",
    "Parameters required for this workflow are the Reinvent configuration, the docking grid, and the reference pose."
   ]
  },
  {
   "cell_type": "markdown",
   "metadata": {},
   "source": [
    "- Dockingで利用するパラメータは今回のチュートリアルのものに修正しています。"
   ]
  },
  {
   "cell_type": "code",
   "execution_count": null,
   "metadata": {
    "execution": {
     "iopub.execute_input": "2024-10-27T10:01:25.948758Z",
     "iopub.status.busy": "2024-10-27T10:01:25.948545Z",
     "iopub.status.idle": "2024-10-27T10:01:25.951420Z",
     "shell.execute_reply": "2024-10-27T10:01:25.951146Z",
     "shell.execute_reply.started": "2024-10-27T10:01:25.948735Z"
    }
   },
   "outputs": [],
   "source": [
    "#grid = Path(\"../maize/steps/mai/docking/data/1uyd.tar\")\n",
    "#ref = Path(\"../maize/steps/mai/docking/data/1UYD_ligand.sdf\")\n",
    "ref = Path(\"../data/2ito_ligand.sdf\")\n",
    "#rnv_config = Path(\"../maize/steps/mai/misc/data/input-intercept.toml\")\n",
    "rnv_config = Path(\"./input-intercept.toml\")\n",
    "\n",
    "prior = Path(\"./reinvent.prior\")"
   ]
  },
  {
   "cell_type": "code",
   "execution_count": null,
   "metadata": {
    "execution": {
     "iopub.execute_input": "2024-10-27T10:01:41.209967Z",
     "iopub.status.busy": "2024-10-27T10:01:41.209811Z",
     "iopub.status.idle": "2024-10-27T10:01:41.214104Z",
     "shell.execute_reply": "2024-10-27T10:01:41.213715Z",
     "shell.execute_reply.started": "2024-10-27T10:01:41.209956Z"
    }
   },
   "outputs": [],
   "source": [
    "# The REINVENT configuration, excluding any entries for maize (these will be added automatically)\n",
    "rnve.configuration.set(rnv_config)\n",
    "rnve.prior.set(prior)\n",
    "rnve.agent.set(prior)\n",
    "\n",
    "# The maximum number of RL epochs\n",
    "rnve.max_epoch.set(10)\n",
    "\n",
    "# Settings to transform the docking score to a value between 0 and 1, with 1 being favourable, using a sigmoid\n",
    "rnve.low.set(-10.0)\n",
    "rnve.high.set(-5.0)\n",
    "rnve.reverse.set(True)\n",
    "\n",
    "# Number of molecules to generate each epoch\n",
    "rnve.batch_size.set(64)\n",
    "\n",
    "# Number of isomers to generate for each SMILES\n",
    "embe.n_variants.set(2)\n",
    "\n",
    "# Docking grid for 1UYD\n",
    "#dock.inp_grid.set(grid)\n",
    "#dock_hp.inp_grid.set(grid)\n",
    "dock.receptor.set(Path(\"../data/2ito_fix_remh.pdbqt\"))\n",
    "dock.search_center.set((-56.643,  -6.844, -23.487))\n",
    "dock.search_range.set((20.00, 20.00, 20.00))\n",
    "dock.exhaustiveness.set(16)\n",
    "\n",
    "dock_hp.receptor.set(Path(\"../data/2ito_fix_remh.pdbqt\"))\n",
    "dock_hp.search_center.set((-56.643,  -6.844, -23.487))\n",
    "dock_hp.search_range.set((20.00, 20.00, 20.00))\n",
    "dock_hp.exhaustiveness.set(16)\n",
    "\n",
    "# Reference ligand for RMSD calculation\n",
    "load.path.set(ref)\n",
    "\n",
    "# Log the \"rmsd\" tag\n",
    "logt.tag.set(\"rmsd\")\n",
    "\n",
    "# Send molecules with RMSD higher than 6 Ang to high-precision docking\n",
    "sort.sorter.set([\"rmsd < 6.0\", \"rmsd >= 6.0\"])\n",
    "\n",
    "# More extensive search settings for \"high-precision\" docking\n",
    "#dock_hp.nrun.set(50)\n",
    "#dock_hp.population_size.set(300)\n",
    "#dock_hp.lsit.set(500)\n",
    "\n",
    "# Deactivate constraints from the grid\n",
    "#dock.constraints.set(False)\n",
    "#dock_hp.constraints.set(False)"
   ]
  },
  {
   "attachments": {},
   "cell_type": "markdown",
   "metadata": {},
   "source": [
    "### Check\n",
    "If this method doesn't throw an exception, we have connected everything correctly and set all required parameters."
   ]
  },
  {
   "cell_type": "code",
   "execution_count": null,
   "metadata": {
    "execution": {
     "iopub.execute_input": "2024-10-27T10:01:43.004549Z",
     "iopub.status.busy": "2024-10-27T10:01:43.004391Z",
     "iopub.status.idle": "2024-10-27T10:01:43.143755Z",
     "shell.execute_reply": "2024-10-27T10:01:43.143326Z",
     "shell.execute_reply.started": "2024-10-27T10:01:43.004539Z"
    }
   },
   "outputs": [],
   "source": [
    "flow.check()"
   ]
  },
  {
   "attachments": {},
   "cell_type": "markdown",
   "metadata": {},
   "source": [
    "### Topology\n",
    "We can visualize our workflow by simply showing the workflow object representation (or using `flow.visualize()` outside of notebooks)."
   ]
  },
  {
   "cell_type": "code",
   "execution_count": null,
   "metadata": {
    "execution": {
     "iopub.execute_input": "2024-10-27T10:01:44.092809Z",
     "iopub.status.busy": "2024-10-27T10:01:44.092478Z",
     "iopub.status.idle": "2024-10-27T10:01:44.112939Z",
     "shell.execute_reply": "2024-10-27T10:01:44.112675Z",
     "shell.execute_reply.started": "2024-10-27T10:01:44.092794Z"
    }
   },
   "outputs": [],
   "source": [
    "flow"
   ]
  },
  {
   "attachments": {},
   "cell_type": "markdown",
   "metadata": {},
   "source": [
    "## Run\n",
    "Run the workflow, it will exit once REINVENT has completed all iterations"
   ]
  },
  {
   "cell_type": "code",
   "execution_count": null,
   "metadata": {
    "execution": {
     "iopub.execute_input": "2024-10-27T10:01:44.946194Z",
     "iopub.status.busy": "2024-10-27T10:01:44.946020Z"
    }
   },
   "outputs": [],
   "source": [
    "flow.execute()"
   ]
  },
  {
   "cell_type": "code",
   "execution_count": null,
   "metadata": {},
   "outputs": [],
   "source": []
  }
 ],
 "metadata": {
  "kernelspec": {
   "display_name": "Python 3 (ipykernel)",
   "language": "python",
   "name": "python3"
  },
  "language_info": {
   "codemirror_mode": {
    "name": "ipython",
    "version": 3
   },
   "file_extension": ".py",
   "mimetype": "text/x-python",
   "name": "python",
   "nbconvert_exporter": "python",
   "pygments_lexer": "ipython3",
   "version": "3.10.15"
  },
  "vscode": {
   "interpreter": {
    "hash": "de9ca75dfeeb73f76b5183fd4a1a83f1a0aa601d1c409541c3df818670219cdd"
   }
  }
 },
 "nbformat": 4,
 "nbformat_minor": 4
}
