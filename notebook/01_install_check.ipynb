{
 "cells": [
  {
   "cell_type": "markdown",
   "id": "325e2960-1757-411e-978c-c6175de48201",
   "metadata": {},
   "source": [
    "# ハンズオン最初の一歩(環境確認)\n",
    "チュートリアルで利用するパッケージが正しくインストールされているかを確認します。次のコードを実行して、もしエラーが出たら近くのモデレーターに声をかけてください。"
   ]
  },
  {
   "cell_type": "markdown",
   "id": "22847d6f-1959-43fb-918d-747875610d38",
   "metadata": {},
   "source": [
    "## Maize\n",
    "\n",
    "設定ファイルは03章以降で作成しますが、パッケージが正しくインストールされているかを確認します。"
   ]
  },
  {
   "cell_type": "code",
   "execution_count": null,
   "id": "ac2f598c-69a0-4dd7-9f84-ad188c554abc",
   "metadata": {
    "execution": {
     "iopub.execute_input": "2024-10-28T04:34:56.544857Z",
     "iopub.status.busy": "2024-10-28T04:34:56.544711Z",
     "iopub.status.idle": "2024-10-28T04:34:57.198741Z",
     "shell.execute_reply": "2024-10-28T04:34:57.198195Z",
     "shell.execute_reply.started": "2024-10-28T04:34:56.544845Z"
    }
   },
   "outputs": [],
   "source": [
    "#import setenv # XDG_CONFIG_HOMEの設定がうまく行かない場合\n",
    "from maize.core.workflow import Workflow\n",
    "from maize.utilities.chem import IsomerCollection\n",
    "from maize.steps.mai.molecule import Gypsum\n",
    "from maize.steps.mai.molecule import Smiles2Molecules, LoadSmiles, LoadMolecule\n",
    "from maize.steps.mai.docking import Vina, VinaScore\n",
    "from maize.steps.io import LoadData, LoadFile, Return, Void\n",
    "from pathlib import Path"
   ]
  },
  {
   "cell_type": "code",
   "execution_count": 2,
   "id": "a400712e-4ed2-4f7d-bd0b-bda543cd1565",
   "metadata": {
    "execution": {
     "iopub.execute_input": "2024-10-28T04:35:03.300806Z",
     "iopub.status.busy": "2024-10-28T04:35:03.300552Z",
     "iopub.status.idle": "2024-10-28T04:35:03.347403Z",
     "shell.execute_reply": "2024-10-28T04:35:03.346888Z",
     "shell.execute_reply.started": "2024-10-28T04:35:03.300795Z"
    }
   },
   "outputs": [],
   "source": [
    "from rdkit import Chem\n",
    "import scipy\n",
    "import meeko"
   ]
  },
  {
   "cell_type": "code",
   "execution_count": 3,
   "id": "2b51c637-e766-4b58-9921-582e20adb525",
   "metadata": {
    "execution": {
     "iopub.execute_input": "2024-10-28T04:35:04.485947Z",
     "iopub.status.busy": "2024-10-28T04:35:04.485782Z",
     "iopub.status.idle": "2024-10-28T04:35:04.525954Z",
     "shell.execute_reply": "2024-10-28T04:35:04.525546Z",
     "shell.execute_reply.started": "2024-10-28T04:35:04.485938Z"
    }
   },
   "outputs": [],
   "source": [
    "from maize import maize\n",
    "import rdkit\n"
   ]
  },
  {
   "cell_type": "code",
   "execution_count": 4,
   "id": "325d8f25-33ba-4851-b15f-823a5b88e8eb",
   "metadata": {
    "execution": {
     "iopub.execute_input": "2024-10-28T04:35:05.481287Z",
     "iopub.status.busy": "2024-10-28T04:35:05.481131Z",
     "iopub.status.idle": "2024-10-28T04:35:05.484027Z",
     "shell.execute_reply": "2024-10-28T04:35:05.483480Z",
     "shell.execute_reply.started": "2024-10-28T04:35:05.481277Z"
    }
   },
   "outputs": [
    {
     "name": "stdout",
     "output_type": "stream",
     "text": [
      "0.8.3\n",
      "2023.09.6\n",
      "0.4.0\n"
     ]
    }
   ],
   "source": [
    "print(maize.__version__) # 0.8.3\n",
    "print(rdkit.__version__) # 2023.09.6\n",
    "print(meeko.__version__) # 0.4.0"
   ]
  },
  {
   "cell_type": "code",
   "execution_count": null,
   "id": "f135a3c0-36dc-45e2-8bf0-23c6a44b5d1c",
   "metadata": {},
   "outputs": [],
   "source": []
  },
  {
   "cell_type": "markdown",
   "id": "d9ad8221-00bb-4930-8c7e-51943c3931c0",
   "metadata": {},
   "source": [
    "## AutoDock Vina\n",
    "\n",
    "以下のようにヘルプメッセージが出れば正しくインストールされています。\n",
    "\n",
    "```sh\n",
    "Input:\n",
    "  --receptor arg             rigid part of the receptor (PDBQT)\n",
    "  --flex arg                 flexible side chains, if any (PDBQT)\n",
    "  --ligand arg               ligand (PDBQT)\n",
    "\n",
    "Search space (required):\n",
    "  --center_x arg             X coordinate of the center\n",
    "  --center_y arg             Y coordinate of the center\n",
    "  --center_z arg             Z coordinate of the center\n",
    "  --size_x arg               size in the X dimension (Angstroms)\n",
    "  --size_y arg               size in the Y dimension (Angstroms)\n",
    "  --size_z arg               size in the Z dimension (Angstroms)\n",
    "```"
   ]
  },
  {
   "cell_type": "code",
   "execution_count": 5,
   "id": "b9fd62e7-4d15-4b1a-b51d-916dab37c762",
   "metadata": {
    "execution": {
     "iopub.execute_input": "2024-10-28T04:36:39.411097Z",
     "iopub.status.busy": "2024-10-28T04:36:39.410917Z",
     "iopub.status.idle": "2024-10-28T04:36:39.536954Z",
     "shell.execute_reply": "2024-10-28T04:36:39.536206Z",
     "shell.execute_reply.started": "2024-10-28T04:36:39.411087Z"
    }
   },
   "outputs": [
    {
     "name": "stdout",
     "output_type": "stream",
     "text": [
      "AutoDock Vina v1.2.5\n",
      "\n",
      "Input:\n",
      "  --receptor arg             rigid part of the receptor (PDBQT)\n",
      "  --flex arg                 flexible side chains, if any (PDBQT)\n",
      "  --ligand arg               ligand (PDBQT)\n",
      "  --batch arg                batch ligand (PDBQT)\n",
      "  --scoring arg (=vina)      scoring function (ad4, vina or vinardo)\n",
      "\n",
      "Search space (required):\n",
      "  --maps arg                 affinity maps for the autodock4.2 (ad4) or vina \n",
      "                             scoring function\n",
      "  --center_x arg             X coordinate of the center (Angstrom)\n",
      "  --center_y arg             Y coordinate of the center (Angstrom)\n",
      "  --center_z arg             Z coordinate of the center (Angstrom)\n",
      "  --size_x arg               size in the X dimension (Angstrom)\n",
      "  --size_y arg               size in the Y dimension (Angstrom)\n",
      "  --size_z arg               size in the Z dimension (Angstrom)\n",
      "  --autobox                  set maps dimensions based on input ligand(s) (for \n",
      "                             --score_only and --local_only)\n",
      "\n",
      "Output (optional):\n",
      "  --out arg                  output models (PDBQT), the default is chosen based\n",
      "                             on the ligand file name\n",
      "  --dir arg                  output directory for batch mode\n",
      "  --write_maps arg           output filename (directory + prefix name) for \n",
      "                             maps. Option --force_even_voxels may be needed to \n",
      "                             comply with .map format\n",
      "\n",
      "Misc (optional):\n",
      "  --cpu arg (=0)             the number of CPUs to use (the default is to try \n",
      "                             to detect the number of CPUs or, failing that, use\n",
      "                             1)\n",
      "  --seed arg (=0)            explicit random seed\n",
      "  --exhaustiveness arg (=8)  exhaustiveness of the global search (roughly \n",
      "                             proportional to time): 1+\n",
      "  --max_evals arg (=0)       number of evaluations in each MC run (if zero, \n",
      "                             which is the default, the number of MC steps is \n",
      "                             based on heuristics)\n",
      "  --num_modes arg (=9)       maximum number of binding modes to generate\n",
      "  --min_rmsd arg (=1)        minimum RMSD between output poses\n",
      "  --energy_range arg (=3)    maximum energy difference between the best binding\n",
      "                             mode and the worst one displayed (kcal/mol)\n",
      "  --spacing arg (=0.375)     grid spacing (Angstrom)\n",
      "  --verbosity arg (=1)       verbosity (0=no output, 1=normal, 2=verbose)\n",
      "\n",
      "Configuration file (optional):\n",
      "  --config arg               the above options can be put here\n",
      "\n",
      "Information (optional):\n",
      "  --help                     display usage summary\n",
      "  --help_advanced            display usage summary with advanced options\n",
      "  --version                  display program version\n",
      "\n"
     ]
    }
   ],
   "source": [
    "!/opt/vina/bin/vina --help"
   ]
  },
  {
   "cell_type": "markdown",
   "id": "a51318b8-26a2-4c7c-b687-49c688087f0f",
   "metadata": {},
   "source": [
    "## Reinvent4\n",
    "\n",
    "2章で確認します.\n",
    "\n",
    "もし時間があれば新規ターミナルを開いて\n",
    "\n",
    "```sh\n",
    "$ conda activate reinvent4\n",
    "$ reinvent --help\n",
    "```\n",
    "でヘルプメッセージが出ることを確認してください\n",
    "\n",
    "## Gypsum\n",
    "\n",
    "3章で確認します。"
   ]
  }
 ],
 "metadata": {
  "kernelspec": {
   "display_name": "Python 3 (ipykernel)",
   "language": "python",
   "name": "python3"
  },
  "language_info": {
   "codemirror_mode": {
    "name": "ipython",
    "version": 3
   },
   "file_extension": ".py",
   "mimetype": "text/x-python",
   "name": "python",
   "nbconvert_exporter": "python",
   "pygments_lexer": "ipython3",
   "version": "3.10.15"
  }
 },
 "nbformat": 4,
 "nbformat_minor": 5
}
