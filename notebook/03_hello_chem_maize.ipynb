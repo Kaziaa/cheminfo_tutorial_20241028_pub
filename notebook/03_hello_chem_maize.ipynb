{
 "cells": [
  {
   "cell_type": "markdown",
   "metadata": {},
   "source": [
    "#### maizeでケモインフォマティクスのWFを作成してみる\n",
    "- 02_hello_maizeをベースにrdkitを利用するワークフローを作って見ましょう。\n",
    "- まず必要なライブラリ軍をインポートします"
   ]
  },
  {
   "cell_type": "code",
   "execution_count": null,
   "metadata": {
    "execution": {
     "iopub.execute_input": "2024-10-28T05:40:16.075701Z",
     "iopub.status.busy": "2024-10-28T05:40:16.075487Z",
     "iopub.status.idle": "2024-10-28T05:40:16.467877Z",
     "shell.execute_reply": "2024-10-28T05:40:16.467480Z",
     "shell.execute_reply.started": "2024-10-28T05:40:16.075683Z"
    }
   },
   "outputs": [],
   "source": [
    "#import setenv # XDG_CONFIG_HOMEの設定がうまく行かない場合\n",
    "from pathlib import Path\n",
    "from maize.core.workflow import Workflow\n",
    "from maize.core.node import Node\n",
    "from maize.steps.io import LoadData, LogResult, Void, FileParameter, Return\n",
    "from maize.steps.mai.molecule import LoadSmiles, LoadMolecule, Gypsum\n",
    "from maize.core.interface import Input, Output\n",
    "from maize.utilities.chem import IsomerCollection\n",
    "from rdkit import Chem\n",
    "from rdkit.Chem import Descriptors\n",
    "from rdkit.Chem.Draw import IPythonConsole\n",
    "import pandas as pd\n",
    "from pandas import DataFrame"
   ]
  },
  {
   "cell_type": "markdown",
   "metadata": {},
   "source": [
    "#### 作成するワークフローの概要\n",
    "- LoadDataノードは先の例では、Intを受け取りましたが、今度はSMILESを受け取り次のノードに渡します。\n",
    "- 次のノードはCalcDescという名前にし、受け取った文字列（SMILESのリスト）をRDKit のMolオブジェクトに変換、記述を計算するようにしましょう。\n",
    "- 最後に計算した値をPandasのデータフレームで返します。\n",
    "- 最低限、MolWt, MolLogPを計算する関数を組み込んでみましょう。"
   ]
  },
  {
   "cell_type": "markdown",
   "metadata": {},
   "source": [
    "#### ノードを書いてみる時間を少し取ります。\n",
    "- TIPS RDKitで計算可能な記述子リストは以下のように多数あります。"
   ]
  },
  {
   "cell_type": "code",
   "execution_count": 2,
   "metadata": {
    "execution": {
     "iopub.execute_input": "2024-10-28T05:40:46.490223Z",
     "iopub.status.busy": "2024-10-28T05:40:46.489913Z",
     "iopub.status.idle": "2024-10-28T05:40:46.493385Z",
     "shell.execute_reply": "2024-10-28T05:40:46.492915Z",
     "shell.execute_reply.started": "2024-10-28T05:40:46.490208Z"
    }
   },
   "outputs": [
    {
     "name": "stdout",
     "output_type": "stream",
     "text": [
      "('MaxAbsEStateIndex', <function MaxAbsEStateIndex at 0x747fcd2f3130>)\n",
      "('MaxEStateIndex', <function MaxEStateIndex at 0x747fcd2f3010>)\n",
      "('MinAbsEStateIndex', <function MinAbsEStateIndex at 0x747fcd2f31c0>)\n",
      "('MinEStateIndex', <function MinEStateIndex at 0x747fcd2f30a0>)\n",
      "('qed', <function qed at 0x747fcd329fc0>)\n",
      "('SPS', <function SPS at 0x747fcd32a320>)\n",
      "('MolWt', <function <lambda> at 0x747fcd32a950>)\n",
      "('HeavyAtomMolWt', <function HeavyAtomMolWt at 0x747fcd32a9e0>)\n",
      "('ExactMolWt', <function <lambda> at 0x747fcd32aa70>)\n",
      "('NumValenceElectrons', <function NumValenceElectrons at 0x747fcd32ab00>)\n",
      "('NumRadicalElectrons', <function NumRadicalElectrons at 0x747fcd32ab90>)\n",
      "('MaxPartialCharge', <function MaxPartialCharge at 0x747fcd32acb0>)\n",
      "('MinPartialCharge', <function MinPartialCharge at 0x747fcd32ad40>)\n",
      "('MaxAbsPartialCharge', <function MaxAbsPartialCharge at 0x747fcd32add0>)\n",
      "('MinAbsPartialCharge', <function MinAbsPartialCharge at 0x747fcd32ae60>)\n",
      "('FpDensityMorgan1', <function FpDensityMorgan1 at 0x747fcd32af80>)\n",
      "('FpDensityMorgan2', <function FpDensityMorgan2 at 0x747fcd32b010>)\n",
      "('FpDensityMorgan3', <function FpDensityMorgan3 at 0x747fcd32b0a0>)\n",
      "('BCUT2D_MWHI', <function BCUT2D_MWHI at 0x747fcd32b130>)\n",
      "('BCUT2D_MWLOW', <function BCUT2D_MWLOW at 0x747fcd32b1c0>)\n",
      "('BCUT2D_CHGHI', <function BCUT2D_CHGHI at 0x747fcd32b250>)\n",
      "('BCUT2D_CHGLO', <function BCUT2D_CHGLO at 0x747fcd32b2e0>)\n",
      "('BCUT2D_LOGPHI', <function BCUT2D_LOGPHI at 0x747fcd32b370>)\n",
      "('BCUT2D_LOGPLOW', <function BCUT2D_LOGPLOW at 0x747fcd32b400>)\n",
      "('BCUT2D_MRHI', <function BCUT2D_MRHI at 0x747fcd32b490>)\n",
      "('BCUT2D_MRLOW', <function BCUT2D_MRLOW at 0x747fcd32b520>)\n",
      "('AvgIpc', <function AvgIpc at 0x747fcd33fd00>)\n",
      "('BalabanJ', <function BalabanJ at 0x747fcd35d1b0>)\n",
      "('BertzCT', <function BertzCT at 0x747fcd35d480>)\n",
      "('Chi0', <function Chi0 at 0x747fcd35c1f0>)\n",
      "('Chi0n', <function <lambda> at 0x747fcd35ce50>)\n",
      "('Chi0v', <function <lambda> at 0x747fcd35caf0>)\n",
      "('Chi1', <function Chi1 at 0x747fcd35c280>)\n",
      "('Chi1n', <function <lambda> at 0x747fcd35cee0>)\n",
      "('Chi1v', <function <lambda> at 0x747fcd35cb80>)\n",
      "('Chi2n', <function <lambda> at 0x747fcd35cf70>)\n",
      "('Chi2v', <function <lambda> at 0x747fcd35cc10>)\n",
      "('Chi3n', <function <lambda> at 0x747fcd35d000>)\n",
      "('Chi3v', <function <lambda> at 0x747fcd35cca0>)\n",
      "('Chi4n', <function <lambda> at 0x747fcd35d090>)\n",
      "('Chi4v', <function <lambda> at 0x747fcd35cd30>)\n",
      "('HallKierAlpha', <function <lambda> at 0x747fcd33ff40>)\n",
      "('Ipc', <function Ipc at 0x747fcd33fc70>)\n",
      "('Kappa1', <function <lambda> at 0x747fcd35c040>)\n",
      "('Kappa2', <function <lambda> at 0x747fcd35c0d0>)\n",
      "('Kappa3', <function <lambda> at 0x747fcd35c160>)\n",
      "('LabuteASA', <function <lambda> at 0x747fcd329510>)\n",
      "('PEOE_VSA1', <function _InstallDescriptors.<locals>.<lambda> at 0x747fcd328ca0>)\n",
      "('PEOE_VSA10', <function _InstallDescriptors.<locals>.<lambda> at 0x747fcd3291b0>)\n",
      "('PEOE_VSA11', <function _InstallDescriptors.<locals>.<lambda> at 0x747fcd329240>)\n",
      "('PEOE_VSA12', <function _InstallDescriptors.<locals>.<lambda> at 0x747fcd3292d0>)\n",
      "('PEOE_VSA13', <function _InstallDescriptors.<locals>.<lambda> at 0x747fcd329360>)\n",
      "('PEOE_VSA14', <function _InstallDescriptors.<locals>.<lambda> at 0x747fcd3293f0>)\n",
      "('PEOE_VSA2', <function _InstallDescriptors.<locals>.<lambda> at 0x747fcd328d30>)\n",
      "('PEOE_VSA3', <function _InstallDescriptors.<locals>.<lambda> at 0x747fcd328dc0>)\n",
      "('PEOE_VSA4', <function _InstallDescriptors.<locals>.<lambda> at 0x747fcd328e50>)\n",
      "('PEOE_VSA5', <function _InstallDescriptors.<locals>.<lambda> at 0x747fcd328ee0>)\n",
      "('PEOE_VSA6', <function _InstallDescriptors.<locals>.<lambda> at 0x747fcd328f70>)\n",
      "('PEOE_VSA7', <function _InstallDescriptors.<locals>.<lambda> at 0x747fcd329000>)\n",
      "('PEOE_VSA8', <function _InstallDescriptors.<locals>.<lambda> at 0x747fcd329090>)\n",
      "('PEOE_VSA9', <function _InstallDescriptors.<locals>.<lambda> at 0x747fcd329120>)\n",
      "('SMR_VSA1', <function _InstallDescriptors.<locals>.<lambda> at 0x747fcd328040>)\n",
      "('SMR_VSA10', <function _InstallDescriptors.<locals>.<lambda> at 0x747fcd328550>)\n",
      "('SMR_VSA2', <function _InstallDescriptors.<locals>.<lambda> at 0x747fcd3280d0>)\n",
      "('SMR_VSA3', <function _InstallDescriptors.<locals>.<lambda> at 0x747fcd328160>)\n",
      "('SMR_VSA4', <function _InstallDescriptors.<locals>.<lambda> at 0x747fcd3281f0>)\n",
      "('SMR_VSA5', <function _InstallDescriptors.<locals>.<lambda> at 0x747fcd328280>)\n",
      "('SMR_VSA6', <function _InstallDescriptors.<locals>.<lambda> at 0x747fcd328310>)\n",
      "('SMR_VSA7', <function _InstallDescriptors.<locals>.<lambda> at 0x747fcd3283a0>)\n",
      "('SMR_VSA8', <function _InstallDescriptors.<locals>.<lambda> at 0x747fcd328430>)\n",
      "('SMR_VSA9', <function _InstallDescriptors.<locals>.<lambda> at 0x747fcd3284c0>)\n",
      "('SlogP_VSA1', <function _InstallDescriptors.<locals>.<lambda> at 0x747fcd3285e0>)\n",
      "('SlogP_VSA10', <function _InstallDescriptors.<locals>.<lambda> at 0x747fcd328af0>)\n",
      "('SlogP_VSA11', <function _InstallDescriptors.<locals>.<lambda> at 0x747fcd328b80>)\n",
      "('SlogP_VSA12', <function _InstallDescriptors.<locals>.<lambda> at 0x747fcd328c10>)\n",
      "('SlogP_VSA2', <function _InstallDescriptors.<locals>.<lambda> at 0x747fcd328670>)\n",
      "('SlogP_VSA3', <function _InstallDescriptors.<locals>.<lambda> at 0x747fcd328700>)\n",
      "('SlogP_VSA4', <function _InstallDescriptors.<locals>.<lambda> at 0x747fcd328790>)\n",
      "('SlogP_VSA5', <function _InstallDescriptors.<locals>.<lambda> at 0x747fcd328820>)\n",
      "('SlogP_VSA6', <function _InstallDescriptors.<locals>.<lambda> at 0x747fcd3288b0>)\n",
      "('SlogP_VSA7', <function _InstallDescriptors.<locals>.<lambda> at 0x747fcd328940>)\n",
      "('SlogP_VSA8', <function _InstallDescriptors.<locals>.<lambda> at 0x747fcd3289d0>)\n",
      "('SlogP_VSA9', <function _InstallDescriptors.<locals>.<lambda> at 0x747fcd328a60>)\n",
      "('TPSA', <function <lambda> at 0x747fcd3296c0>)\n",
      "('EState_VSA1', <function EState_VSA1 at 0x747fcd35ecb0>)\n",
      "('EState_VSA10', <function EState_VSA10 at 0x747fcd35f1c0>)\n",
      "('EState_VSA11', <function EState_VSA11 at 0x747fcd35f250>)\n",
      "('EState_VSA2', <function EState_VSA2 at 0x747fcd35ed40>)\n",
      "('EState_VSA3', <function EState_VSA3 at 0x747fcd35edd0>)\n",
      "('EState_VSA4', <function EState_VSA4 at 0x747fcd35ee60>)\n",
      "('EState_VSA5', <function EState_VSA5 at 0x747fcd35eef0>)\n",
      "('EState_VSA6', <function EState_VSA6 at 0x747fcd35ef80>)\n",
      "('EState_VSA7', <function EState_VSA7 at 0x747fcd35f010>)\n",
      "('EState_VSA8', <function EState_VSA8 at 0x747fcd35f0a0>)\n",
      "('EState_VSA9', <function EState_VSA9 at 0x747fcd35f130>)\n",
      "('VSA_EState1', <function _descriptor_VSA_EState.<locals>.VSA_EState_bin at 0x747fcd35e710>)\n",
      "('VSA_EState10', <function _descriptor_VSA_EState.<locals>.VSA_EState_bin at 0x747fcd35ec20>)\n",
      "('VSA_EState2', <function _descriptor_VSA_EState.<locals>.VSA_EState_bin at 0x747fcd35e7a0>)\n",
      "('VSA_EState3', <function _descriptor_VSA_EState.<locals>.VSA_EState_bin at 0x747fcd35e830>)\n",
      "('VSA_EState4', <function _descriptor_VSA_EState.<locals>.VSA_EState_bin at 0x747fcd35e8c0>)\n",
      "('VSA_EState5', <function _descriptor_VSA_EState.<locals>.VSA_EState_bin at 0x747fcd35e950>)\n",
      "('VSA_EState6', <function _descriptor_VSA_EState.<locals>.VSA_EState_bin at 0x747fcd35e9e0>)\n",
      "('VSA_EState7', <function _descriptor_VSA_EState.<locals>.VSA_EState_bin at 0x747fcd35ea70>)\n",
      "('VSA_EState8', <function _descriptor_VSA_EState.<locals>.VSA_EState_bin at 0x747fcd35eb00>)\n",
      "('VSA_EState9', <function _descriptor_VSA_EState.<locals>.VSA_EState_bin at 0x747fcd35eb90>)\n",
      "('FractionCSP3', <function <lambda> at 0x747fcd35dcf0>)\n",
      "('HeavyAtomCount', <function HeavyAtomCount at 0x747fcd35dc60>)\n",
      "('NHOHCount', <function <lambda> at 0x747fcd35db40>)\n",
      "('NOCount', <function <lambda> at 0x747fcd35dab0>)\n",
      "('NumAliphaticCarbocycles', <function <lambda> at 0x747fcd35e200>)\n",
      "('NumAliphaticHeterocycles', <function <lambda> at 0x747fcd35e170>)\n",
      "('NumAliphaticRings', <function <lambda> at 0x747fcd35e0e0>)\n",
      "('NumAromaticCarbocycles', <function <lambda> at 0x747fcd35df30>)\n",
      "('NumAromaticHeterocycles', <function <lambda> at 0x747fcd35dea0>)\n",
      "('NumAromaticRings', <function <lambda> at 0x747fcd35dd80>)\n",
      "('NumHAcceptors', <function <lambda> at 0x747fcd35d750>)\n",
      "('NumHDonors', <function <lambda> at 0x747fcd35d630>)\n",
      "('NumHeteroatoms', <function <lambda> at 0x747fcd35d870>)\n",
      "('NumRotatableBonds', <function <lambda> at 0x747fcd35d990>)\n",
      "('NumSaturatedCarbocycles', <function <lambda> at 0x747fcd35e050>)\n",
      "('NumSaturatedHeterocycles', <function <lambda> at 0x747fcd35dfc0>)\n",
      "('NumSaturatedRings', <function <lambda> at 0x747fcd35de10>)\n",
      "('RingCount', <function <lambda> at 0x747fcd35dbd0>)\n",
      "('MolLogP', <function <lambda> at 0x747fcd2f39a0>)\n",
      "('MolMR', <function <lambda> at 0x747fcd2f3a30>)\n",
      "('fr_Al_COO', <function _LoadPatterns.<locals>.<lambda> at 0x747fcd33caf0>)\n",
      "('fr_Al_OH', <function _LoadPatterns.<locals>.<lambda> at 0x747fcd33c820>)\n",
      "('fr_Al_OH_noTert', <function _LoadPatterns.<locals>.<lambda> at 0x747fcd33f1c0>)\n",
      "('fr_ArN', <function _LoadPatterns.<locals>.<lambda> at 0x747fcd33f6d0>)\n",
      "('fr_Ar_COO', <function _LoadPatterns.<locals>.<lambda> at 0x747fcd33cb80>)\n",
      "('fr_Ar_N', <function _LoadPatterns.<locals>.<lambda> at 0x747fcd33d1b0>)\n",
      "('fr_Ar_NH', <function _LoadPatterns.<locals>.<lambda> at 0x747fcd33d240>)\n",
      "('fr_Ar_OH', <function _LoadPatterns.<locals>.<lambda> at 0x747fcd33c8b0>)\n",
      "('fr_COO', <function _LoadPatterns.<locals>.<lambda> at 0x747fcd33cc10>)\n",
      "('fr_COO2', <function _LoadPatterns.<locals>.<lambda> at 0x747fcd33cca0>)\n",
      "('fr_C_O', <function _LoadPatterns.<locals>.<lambda> at 0x747fcd33c700>)\n",
      "('fr_C_O_noCOO', <function _LoadPatterns.<locals>.<lambda> at 0x747fcd33c790>)\n",
      "('fr_C_S', <function _LoadPatterns.<locals>.<lambda> at 0x747fcd33e050>)\n",
      "('fr_HOCCN', <function _LoadPatterns.<locals>.<lambda> at 0x747fcd33f760>)\n",
      "('fr_Imine', <function _LoadPatterns.<locals>.<lambda> at 0x747fcd33d360>)\n",
      "('fr_NH0', <function _LoadPatterns.<locals>.<lambda> at 0x747fcd33d120>)\n",
      "('fr_NH1', <function _LoadPatterns.<locals>.<lambda> at 0x747fcd33d090>)\n",
      "('fr_NH2', <function _LoadPatterns.<locals>.<lambda> at 0x747fcd33d000>)\n",
      "('fr_N_O', <function _LoadPatterns.<locals>.<lambda> at 0x747fcd33d630>)\n",
      "('fr_Ndealkylation1', <function _LoadPatterns.<locals>.<lambda> at 0x747fcd33f490>)\n",
      "('fr_Ndealkylation2', <function _LoadPatterns.<locals>.<lambda> at 0x747fcd33f520>)\n",
      "('fr_Nhpyrrole', <function _LoadPatterns.<locals>.<lambda> at 0x747fcd33db40>)\n",
      "('fr_SH', <function _LoadPatterns.<locals>.<lambda> at 0x747fcd33dfc0>)\n",
      "('fr_aldehyde', <function _LoadPatterns.<locals>.<lambda> at 0x747fcd33cee0>)\n",
      "('fr_alkyl_carbamate', <function _LoadPatterns.<locals>.<lambda> at 0x747fcd33f5b0>)\n",
      "('fr_alkyl_halide', <function _LoadPatterns.<locals>.<lambda> at 0x747fcd33dea0>)\n",
      "('fr_allylic_oxid', <function _LoadPatterns.<locals>.<lambda> at 0x747fcd33f400>)\n",
      "('fr_amide', <function _LoadPatterns.<locals>.<lambda> at 0x747fcd33d900>)\n",
      "('fr_amidine', <function _LoadPatterns.<locals>.<lambda> at 0x747fcd33da20>)\n",
      "('fr_aniline', <function _LoadPatterns.<locals>.<lambda> at 0x747fcd33d2d0>)\n",
      "('fr_aryl_methyl', <function _LoadPatterns.<locals>.<lambda> at 0x747fcd33f370>)\n",
      "('fr_azide', <function _LoadPatterns.<locals>.<lambda> at 0x747fcd33d870>)\n",
      "('fr_azo', <function _LoadPatterns.<locals>.<lambda> at 0x747fcd33d750>)\n",
      "('fr_barbitur', <function _LoadPatterns.<locals>.<lambda> at 0x747fcd33e320>)\n",
      "('fr_benzene', <function _LoadPatterns.<locals>.<lambda> at 0x747fcd33edd0>)\n",
      "('fr_benzodiazepine', <function _LoadPatterns.<locals>.<lambda> at 0x747fcd33f250>)\n",
      "('fr_bicyclic', <function _LoadPatterns.<locals>.<lambda> at 0x747fcd33ec20>)\n",
      "('fr_diazo', <function _LoadPatterns.<locals>.<lambda> at 0x747fcd33d7e0>)\n",
      "('fr_dihydropyridine', <function _LoadPatterns.<locals>.<lambda> at 0x747fcd33f130>)\n",
      "('fr_epoxide', <function _LoadPatterns.<locals>.<lambda> at 0x747fcd33eb90>)\n",
      "('fr_ester', <function _LoadPatterns.<locals>.<lambda> at 0x747fcd33ca60>)\n",
      "('fr_ether', <function _LoadPatterns.<locals>.<lambda> at 0x747fcd33cdc0>)\n",
      "('fr_furan', <function _LoadPatterns.<locals>.<lambda> at 0x747fcd33e560>)\n",
      "('fr_guanido', <function _LoadPatterns.<locals>.<lambda> at 0x747fcd33dab0>)\n",
      "('fr_halogen', <function _LoadPatterns.<locals>.<lambda> at 0x747fcd33de10>)\n",
      "('fr_hdrzine', <function _LoadPatterns.<locals>.<lambda> at 0x747fcd33d510>)\n",
      "('fr_hdrzone', <function _LoadPatterns.<locals>.<lambda> at 0x747fcd33d480>)\n",
      "('fr_imidazole', <function _LoadPatterns.<locals>.<lambda> at 0x747fcd33e4d0>)\n",
      "('fr_imide', <function _LoadPatterns.<locals>.<lambda> at 0x747fcd33dbd0>)\n",
      "('fr_isocyan', <function _LoadPatterns.<locals>.<lambda> at 0x747fcd33dc60>)\n",
      "('fr_isothiocyan', <function _LoadPatterns.<locals>.<lambda> at 0x747fcd33dcf0>)\n",
      "('fr_ketone', <function _LoadPatterns.<locals>.<lambda> at 0x747fcd33cd30>)\n",
      "('fr_ketone_Topliss', <function _LoadPatterns.<locals>.<lambda> at 0x747fcd33f640>)\n",
      "('fr_lactam', <function _LoadPatterns.<locals>.<lambda> at 0x747fcd33e9e0>)\n",
      "('fr_lactone', <function _LoadPatterns.<locals>.<lambda> at 0x747fcd33ea70>)\n",
      "('fr_methoxy', <function _LoadPatterns.<locals>.<lambda> at 0x747fcd33c940>)\n",
      "('fr_morpholine', <function _LoadPatterns.<locals>.<lambda> at 0x747fcd33e950>)\n",
      "('fr_nitrile', <function _LoadPatterns.<locals>.<lambda> at 0x747fcd33d3f0>)\n",
      "('fr_nitro', <function _LoadPatterns.<locals>.<lambda> at 0x747fcd33d6c0>)\n",
      "('fr_nitro_arom', <function _LoadPatterns.<locals>.<lambda> at 0x747fcd33ef80>)\n",
      "('fr_nitro_arom_nonortho', <function _LoadPatterns.<locals>.<lambda> at 0x747fcd33f010>)\n",
      "('fr_nitroso', <function _LoadPatterns.<locals>.<lambda> at 0x747fcd33d5a0>)\n",
      "('fr_oxazole', <function _LoadPatterns.<locals>.<lambda> at 0x747fcd33e710>)\n",
      "('fr_oxime', <function _LoadPatterns.<locals>.<lambda> at 0x747fcd33c9d0>)\n",
      "('fr_para_hydroxylation', <function _LoadPatterns.<locals>.<lambda> at 0x747fcd33f2e0>)\n",
      "('fr_phenol', <function _LoadPatterns.<locals>.<lambda> at 0x747fcd33ce50>)\n",
      "('fr_phenol_noOrthoHbond', <function _LoadPatterns.<locals>.<lambda> at 0x747fcd33f0a0>)\n",
      "('fr_phos_acid', <function _LoadPatterns.<locals>.<lambda> at 0x747fcd33ee60>)\n",
      "('fr_phos_ester', <function _LoadPatterns.<locals>.<lambda> at 0x747fcd33eef0>)\n",
      "('fr_piperdine', <function _LoadPatterns.<locals>.<lambda> at 0x747fcd33e830>)\n",
      "('fr_piperzine', <function _LoadPatterns.<locals>.<lambda> at 0x747fcd33e8c0>)\n",
      "('fr_priamide', <function _LoadPatterns.<locals>.<lambda> at 0x747fcd33d990>)\n",
      "('fr_prisulfonamd', <function _LoadPatterns.<locals>.<lambda> at 0x747fcd33e290>)\n",
      "('fr_pyridine', <function _LoadPatterns.<locals>.<lambda> at 0x747fcd33e7a0>)\n",
      "('fr_quatN', <function _LoadPatterns.<locals>.<lambda> at 0x747fcd33cf70>)\n",
      "('fr_sulfide', <function _LoadPatterns.<locals>.<lambda> at 0x747fcd33df30>)\n",
      "('fr_sulfonamd', <function _LoadPatterns.<locals>.<lambda> at 0x747fcd33e200>)\n",
      "('fr_sulfone', <function _LoadPatterns.<locals>.<lambda> at 0x747fcd33e170>)\n",
      "('fr_term_acetylene', <function _LoadPatterns.<locals>.<lambda> at 0x747fcd33e440>)\n",
      "('fr_tetrazole', <function _LoadPatterns.<locals>.<lambda> at 0x747fcd33eb00>)\n",
      "('fr_thiazole', <function _LoadPatterns.<locals>.<lambda> at 0x747fcd33e680>)\n",
      "('fr_thiocyan', <function _LoadPatterns.<locals>.<lambda> at 0x747fcd33dd80>)\n",
      "('fr_thiophene', <function _LoadPatterns.<locals>.<lambda> at 0x747fcd33e5f0>)\n",
      "('fr_unbrch_alkane', <function _LoadPatterns.<locals>.<lambda> at 0x747fcd33ed40>)\n",
      "('fr_urea', <function _LoadPatterns.<locals>.<lambda> at 0x747fcd33e3b0>)\n"
     ]
    }
   ],
   "source": [
    "for desc in Descriptors._descList:\n",
    "    print(desc)"
   ]
  },
  {
   "cell_type": "code",
   "execution_count": 3,
   "metadata": {
    "execution": {
     "iopub.execute_input": "2024-10-28T05:43:37.289454Z",
     "iopub.status.busy": "2024-10-28T05:43:37.289122Z",
     "iopub.status.idle": "2024-10-28T05:43:37.292781Z",
     "shell.execute_reply": "2024-10-28T05:43:37.292224Z",
     "shell.execute_reply.started": "2024-10-28T05:43:37.289436Z"
    }
   },
   "outputs": [],
   "source": [
    "class CalcDesc(Node):\n",
    "    out: Output[pd.DataFrame] = Output()\n",
    "    inp: Input[list[str]] = Input()\n",
    "\n",
    "    def run(self):\n",
    "        res = pd.DataFrame({'smiles': self.inp.receive()})\n",
    "        res['ROMol'] = res['smiles'].apply(Chem.MolFromSmiles)\n",
    "        res['MolWt'] = res['ROMol'].apply(Descriptors.MolWt)\n",
    "        res['MolLogP'] = res['ROMol'].apply(Descriptors.MolLogP)\n",
    "        return self.out.send(res)"
   ]
  },
  {
   "cell_type": "code",
   "execution_count": 4,
   "metadata": {
    "execution": {
     "iopub.execute_input": "2024-10-28T05:43:39.218902Z",
     "iopub.status.busy": "2024-10-28T05:43:39.218436Z",
     "iopub.status.idle": "2024-10-28T05:43:39.220999Z",
     "shell.execute_reply": "2024-10-28T05:43:39.220771Z",
     "shell.execute_reply.started": "2024-10-28T05:43:39.218887Z"
    }
   },
   "outputs": [],
   "source": [
    "mols = ['CCC', 'CCOC', 'CCCC']"
   ]
  },
  {
   "cell_type": "markdown",
   "metadata": {},
   "source": [
    "#### ワークフロー構築\n",
    "- CalcDescノードの定義が終わったらワークフローを構築しましょう\n",
    "- 非常にシンプルな例ですがLoadDataの出力をCalcDesc2私最後にそれをReturnノードで受け取るというワークフローです"
   ]
  },
  {
   "cell_type": "code",
   "execution_count": 5,
   "metadata": {
    "execution": {
     "iopub.execute_input": "2024-10-28T05:46:24.102687Z",
     "iopub.status.busy": "2024-10-28T05:46:24.102472Z",
     "iopub.status.idle": "2024-10-28T05:46:25.904761Z",
     "shell.execute_reply": "2024-10-28T05:46:25.904392Z",
     "shell.execute_reply.started": "2024-10-28T05:46:24.102670Z"
    }
   },
   "outputs": [],
   "source": [
    "flow = Workflow()\n",
    "load = flow.add(LoadData[list[str]])\n",
    "calc = flow.add(CalcDesc)\n",
    "res = flow.add(Return[pd.DataFrame])\n",
    "flow.connect(load.out, calc.inp)\n",
    "flow.connect(calc.out, res.inp)\n",
    "load.data.set(mols)\n",
    "flow.check()"
   ]
  },
  {
   "cell_type": "code",
   "execution_count": 6,
   "metadata": {
    "execution": {
     "iopub.execute_input": "2024-10-28T05:47:00.661348Z",
     "iopub.status.busy": "2024-10-28T05:47:00.661178Z",
     "iopub.status.idle": "2024-10-28T05:47:00.682080Z",
     "shell.execute_reply": "2024-10-28T05:47:00.681716Z",
     "shell.execute_reply.started": "2024-10-28T05:47:00.661334Z"
    }
   },
   "outputs": [
    {
     "data": {
      "image/svg+xml": [
       "<?xml version=\"1.0\" encoding=\"UTF-8\" standalone=\"no\"?>\n",
       "<!DOCTYPE svg PUBLIC \"-//W3C//DTD SVG 1.1//EN\"\n",
       " \"http://www.w3.org/Graphics/SVG/1.1/DTD/svg11.dtd\">\n",
       "<!-- Generated by graphviz version 12.0.0 (20240803.0821)\n",
       " -->\n",
       "<!-- Title: ww8dtn Pages: 1 -->\n",
       "<svg width=\"84pt\" height=\"215pt\"\n",
       " viewBox=\"0.00 0.00 84.25 215.00\" xmlns=\"http://www.w3.org/2000/svg\" xmlns:xlink=\"http://www.w3.org/1999/xlink\">\n",
       "<g id=\"graph0\" class=\"graph\" transform=\"scale(1 1) rotate(0) translate(4 211)\">\n",
       "<title>ww8dtn</title>\n",
       "<polygon fill=\"none\" stroke=\"none\" points=\"-4,4 -4,-211 80.25,-211 80.25,4 -4,4\"/>\n",
       "<!-- loaddata -->\n",
       "<g id=\"node1\" class=\"node\">\n",
       "<title>loaddata</title>\n",
       "<path fill=\"#666666\" fill-opacity=\"0.133333\" stroke=\"#830051\" stroke-width=\"2\" d=\"M49,-207C49,-207 12,-207 12,-207 6,-207 0,-201 0,-195 0,-195 0,-183 0,-183 0,-177 6,-171 12,-171 12,-171 49,-171 49,-171 55,-171 61,-177 61,-183 61,-183 61,-195 61,-195 61,-201 55,-207 49,-207\"/>\n",
       "<text text-anchor=\"middle\" x=\"30.5\" y=\"-187.18\" font-family=\"Consolas\" font-size=\"11.00\">loaddata</text>\n",
       "</g>\n",
       "<!-- calcdesc -->\n",
       "<g id=\"node2\" class=\"node\">\n",
       "<title>calcdesc</title>\n",
       "<path fill=\"#666666\" fill-opacity=\"0.133333\" stroke=\"#830051\" stroke-width=\"2\" d=\"M47.88,-121.5C47.88,-121.5 13.12,-121.5 13.12,-121.5 7.12,-121.5 1.13,-115.5 1.13,-109.5 1.13,-109.5 1.13,-97.5 1.13,-97.5 1.13,-91.5 7.13,-85.5 13.13,-85.5 13.13,-85.5 47.88,-85.5 47.88,-85.5 53.88,-85.5 59.88,-91.5 59.88,-97.5 59.88,-97.5 59.88,-109.5 59.88,-109.5 59.88,-115.5 53.88,-121.5 47.88,-121.5\"/>\n",
       "<text text-anchor=\"middle\" x=\"30.5\" y=\"-101.67\" font-family=\"Consolas\" font-size=\"11.00\">calcdesc</text>\n",
       "</g>\n",
       "<!-- loaddata&#45;&gt;calcdesc -->\n",
       "<g id=\"edge1\" class=\"edge\">\n",
       "<title>loaddata&#45;&gt;calcdesc</title>\n",
       "<path fill=\"none\" stroke=\"#3f4444\" stroke-width=\"2\" d=\"M30.5,-170.29C30.5,-160.18 30.5,-147.2 30.5,-135.45\"/>\n",
       "<polygon fill=\"#3f4444\" stroke=\"#3f4444\" stroke-width=\"2\" points=\"34,-135.5 30.5,-125.5 27,-135.5 34,-135.5\"/>\n",
       "<text text-anchor=\"middle\" x=\"45.12\" y=\"-144.45\" font-family=\"Consolas\" font-size=\"9.00\">list[str]</text>\n",
       "</g>\n",
       "<!-- return -->\n",
       "<g id=\"node3\" class=\"node\">\n",
       "<title>return</title>\n",
       "<path fill=\"#666666\" fill-opacity=\"0.133333\" stroke=\"#830051\" stroke-width=\"2\" d=\"M45.5,-36C45.5,-36 15.5,-36 15.5,-36 9.5,-36 3.5,-30 3.5,-24 3.5,-24 3.5,-12 3.5,-12 3.5,-6 9.5,0 15.5,0 15.5,0 45.5,0 45.5,0 51.5,0 57.5,-6 57.5,-12 57.5,-12 57.5,-24 57.5,-24 57.5,-30 51.5,-36 45.5,-36\"/>\n",
       "<text text-anchor=\"middle\" x=\"30.5\" y=\"-16.18\" font-family=\"Consolas\" font-size=\"11.00\">return</text>\n",
       "</g>\n",
       "<!-- calcdesc&#45;&gt;return -->\n",
       "<g id=\"edge2\" class=\"edge\">\n",
       "<title>calcdesc&#45;&gt;return</title>\n",
       "<path fill=\"none\" stroke=\"#3f4444\" stroke-width=\"2\" d=\"M30.5,-84.79C30.5,-74.68 30.5,-61.7 30.5,-49.95\"/>\n",
       "<polygon fill=\"#3f4444\" stroke=\"#3f4444\" stroke-width=\"2\" points=\"34,-50 30.5,-40 27,-50 34,-50\"/>\n",
       "<text text-anchor=\"middle\" x=\"53.38\" y=\"-58.95\" font-family=\"Consolas\" font-size=\"9.00\">DataFrame</text>\n",
       "</g>\n",
       "</g>\n",
       "</svg>\n"
      ],
      "text/plain": [
       "<graphviz.graphs.Digraph at 0x747fcc60fc40>"
      ]
     },
     "execution_count": 6,
     "metadata": {},
     "output_type": "execute_result"
    }
   ],
   "source": [
    "flow.visualize()"
   ]
  },
  {
   "cell_type": "code",
   "execution_count": 7,
   "metadata": {
    "execution": {
     "iopub.execute_input": "2024-10-28T05:47:16.145354Z",
     "iopub.status.busy": "2024-10-28T05:47:16.145214Z",
     "iopub.status.idle": "2024-10-28T05:47:17.631874Z",
     "shell.execute_reply": "2024-10-28T05:47:17.631431Z",
     "shell.execute_reply.started": "2024-10-28T05:47:16.145344Z"
    }
   },
   "outputs": [
    {
     "name": "stderr",
     "output_type": "stream",
     "text": [
      "2024-10-28 14:47:16,147 | \u001b[1;34m    INFO\u001b[0m |           ww8dtn | \n",
      "              ___           ___                       ___           ___\n",
      "             /\\__\\         /\\  \\          ___        /\\  \\         /\\  \\\n",
      "            /::|  |       /::\\  \\        /\\  \\       \\:\\  \\       /::\\  \\\n",
      "           /:|:|  |      /:/\\:\\  \\       \\:\\  \\       \\:\\  \\     /:/\\:\\  \\\n",
      "          /:/|:|__|__   /::\\~\\:\\  \\      /::\\__\\       \\:\\  \\   /::\\~\\:\\  \\\n",
      "         /:/ |::::\\__\\ /:/\\:\\ \\:\\__\\  __/:/\\/__/ _______\\:\\__\\ /:/\\:\\ \\:\\__\\\n",
      "         \\/__/~~/:/  / \\/__\\:\\/:/  / /\\/:/  /    \\::::::::/__/ \\:\\~\\:\\ \\/__/\n",
      "               /:/  /       \\::/  /  \\::/__/      \\:\\~~\\~~      \\:\\ \\:\\__\\\n",
      "              /:/  /        /:/  /    \\:\\__\\       \\:\\  \\        \\:\\ \\/__/\n",
      "             /:/  /        /:/  /      \\/__/        \\:\\__\\        \\:\\__\\\n",
      "             \\/__/         \\/__/                     \\/__/         \\/__/\n",
      "\n",
      "\n",
      "2024-10-28 14:47:16,148 | \u001b[1;34m    INFO\u001b[0m |           ww8dtn | Starting Maize version 0.8.3 (c) AstraZeneca 2024\n",
      "2024-10-28 14:47:16,148 | \u001b[1;34m    INFO\u001b[0m |           ww8dtn | Running workflow 'ww8dtn' with parameters:\n",
      "2024-10-28 14:47:16,149 | \u001b[1;34m    INFO\u001b[0m |           ww8dtn | data = ['CCC', 'CCOC', 'CCCC'] (from 'loaddata')\n",
      "2024-10-28 14:47:16,757 | \u001b[1;34m    INFO\u001b[0m |           ww8dtn | Node 'loaddata' finished (1/3)\n",
      "2024-10-28 14:47:16,920 | \u001b[1;34m    INFO\u001b[0m |           ww8dtn | Node 'calcdesc' finished (2/3)\n",
      "2024-10-28 14:47:17,123 | \u001b[1;34m    INFO\u001b[0m |           ww8dtn | Node 'return' finished (3/3)\n",
      "2024-10-28 14:47:17,624 | \u001b[1;34m    INFO\u001b[0m |           ww8dtn | Execution completed :) total runtime: 0:00:00.960501\n",
      "\t3 nodes completed successfully\n",
      "\t0 nodes stopped due to closing ports\n",
      "\t0 nodes failed\n",
      "\t0:00:01.042230 total walltime\n",
      "\t0:00:01.022500 spent waiting for resources or other nodes\n"
     ]
    }
   ],
   "source": [
    "flow.execute()"
   ]
  },
  {
   "cell_type": "code",
   "execution_count": 8,
   "metadata": {
    "execution": {
     "iopub.execute_input": "2024-10-28T05:47:48.003828Z",
     "iopub.status.busy": "2024-10-28T05:47:48.003670Z",
     "iopub.status.idle": "2024-10-28T05:47:48.022226Z",
     "shell.execute_reply": "2024-10-28T05:47:48.021618Z",
     "shell.execute_reply.started": "2024-10-28T05:47:48.003815Z"
    }
   },
   "outputs": [
    {
     "data": {
      "text/html": [
       "<div>\n",
       "<style scoped>\n",
       "    .dataframe tbody tr th:only-of-type {\n",
       "        vertical-align: middle;\n",
       "    }\n",
       "\n",
       "    .dataframe tbody tr th {\n",
       "        vertical-align: top;\n",
       "    }\n",
       "\n",
       "    .dataframe thead th {\n",
       "        text-align: right;\n",
       "    }\n",
       "</style>\n",
       "<table border=\"1\" class=\"dataframe\">\n",
       "  <thead>\n",
       "    <tr style=\"text-align: right;\">\n",
       "      <th></th>\n",
       "      <th>smiles</th>\n",
       "      <th>ROMol</th>\n",
       "      <th>MolWt</th>\n",
       "      <th>MolLogP</th>\n",
       "    </tr>\n",
       "  </thead>\n",
       "  <tbody>\n",
       "    <tr>\n",
       "      <th>0</th>\n",
       "      <td>CCC</td>\n",
       "      <td>&lt;rdkit.Chem.rdchem.Mol object at 0x747fcc2997b0&gt;</td>\n",
       "      <td>44.097</td>\n",
       "      <td>1.4163</td>\n",
       "    </tr>\n",
       "    <tr>\n",
       "      <th>1</th>\n",
       "      <td>CCOC</td>\n",
       "      <td>&lt;rdkit.Chem.rdchem.Mol object at 0x747fcbeb98f0&gt;</td>\n",
       "      <td>60.096</td>\n",
       "      <td>0.6527</td>\n",
       "    </tr>\n",
       "    <tr>\n",
       "      <th>2</th>\n",
       "      <td>CCCC</td>\n",
       "      <td>&lt;rdkit.Chem.rdchem.Mol object at 0x747fcbeb9940&gt;</td>\n",
       "      <td>58.124</td>\n",
       "      <td>1.8064</td>\n",
       "    </tr>\n",
       "  </tbody>\n",
       "</table>\n",
       "</div>"
      ],
      "text/plain": [
       "  smiles                                             ROMol   MolWt  MolLogP\n",
       "0    CCC  <rdkit.Chem.rdchem.Mol object at 0x747fcc2997b0>  44.097   1.4163\n",
       "1   CCOC  <rdkit.Chem.rdchem.Mol object at 0x747fcbeb98f0>  60.096   0.6527\n",
       "2   CCCC  <rdkit.Chem.rdchem.Mol object at 0x747fcbeb9940>  58.124   1.8064"
      ]
     },
     "execution_count": 8,
     "metadata": {},
     "output_type": "execute_result"
    }
   ],
   "source": [
    "res.get()"
   ]
  },
  {
   "cell_type": "markdown",
   "metadata": {},
   "source": [
    "#### maize-contribに実装されているIsomerCollectionを利用したワークフローの作成\n",
    "- maize-contribには[IsomerCollection](https://github.com/MolecularAI/maize-contrib/blob/6a80f85e29e1d7e67bd13a2d34a0d5a440386fe3/maize/utilities/chem/chem.py#L1862)というクラスが実装されています。\n",
    "- これはMaestro, SDF, SMILESなど様々な形式の入力を受け取りMolobjectを生成します。SMILESで受け取った場合は立体異性体のEnumerationも実施します。またこの際にRDKITを利用した立体構造生成も同時に行います。"
   ]
  },
  {
   "cell_type": "code",
   "execution_count": 9,
   "metadata": {
    "execution": {
     "iopub.execute_input": "2024-10-28T05:49:33.607233Z",
     "iopub.status.busy": "2024-10-28T05:49:33.607051Z",
     "iopub.status.idle": "2024-10-28T05:49:33.609430Z",
     "shell.execute_reply": "2024-10-28T05:49:33.609148Z",
     "shell.execute_reply.started": "2024-10-28T05:49:33.607216Z"
    }
   },
   "outputs": [],
   "source": [
    "from maize.utilities.chem.chem import IsomerCollection"
   ]
  },
  {
   "cell_type": "code",
   "execution_count": 10,
   "metadata": {
    "execution": {
     "iopub.execute_input": "2024-10-28T05:49:42.588239Z",
     "iopub.status.busy": "2024-10-28T05:49:42.588102Z",
     "iopub.status.idle": "2024-10-28T05:49:42.609466Z",
     "shell.execute_reply": "2024-10-28T05:49:42.609069Z",
     "shell.execute_reply.started": "2024-10-28T05:49:42.588229Z"
    }
   },
   "outputs": [],
   "source": [
    "iso1 = IsomerCollection.from_smiles('CCC(O)CN')"
   ]
  },
  {
   "cell_type": "code",
   "execution_count": 11,
   "metadata": {
    "execution": {
     "iopub.execute_input": "2024-10-28T05:49:43.211045Z",
     "iopub.status.busy": "2024-10-28T05:49:43.210900Z",
     "iopub.status.idle": "2024-10-28T05:49:43.213855Z",
     "shell.execute_reply": "2024-10-28T05:49:43.213628Z",
     "shell.execute_reply.started": "2024-10-28T05:49:43.211034Z"
    }
   },
   "outputs": [
    {
     "data": {
      "text/plain": [
       "IsomerCollection('CCC(O)CN', n_isomers=2)"
      ]
     },
     "execution_count": 11,
     "metadata": {},
     "output_type": "execute_result"
    }
   ],
   "source": [
    "iso1"
   ]
  },
  {
   "cell_type": "code",
   "execution_count": 12,
   "metadata": {
    "execution": {
     "iopub.execute_input": "2024-10-28T05:50:19.054057Z",
     "iopub.status.busy": "2024-10-28T05:50:19.053889Z",
     "iopub.status.idle": "2024-10-28T05:50:19.062014Z",
     "shell.execute_reply": "2024-10-28T05:50:19.061754Z",
     "shell.execute_reply.started": "2024-10-28T05:50:19.054044Z"
    }
   },
   "outputs": [
    {
     "data": {
      "image/png": "[encoded data removed]",
      "text/html": [
       "<table><tr><td colspan=\"2\" style=\"text-align: center;\"><image src=\"data:image/png;base64,iVBORw0KGgoAAAANSUhEUgAAAcIAAACWCAIAAADCEh9HAAAABmJLR0QA/wD/AP+gvaeTAAAUpklEQVR4nO3deVAUZwIF8Mdwe4AcGhWIGrIeWAKKF8iqIUCi8YziKqfHmuyaMqyJbjwwtetd8WJr1UTEDYcnwcSo2bgIooRhQAWRxAtFKdB4MEIMlwgM+wdTmHjgADPzzQzvV/zR1fNN9yulXnXTX3cbNTQ0gIiIWksiOgARkX5jjRIRtQlrlIioTVijRERtwholImoT1igRUZuYiA5A9HtVVZBKUVQEuRymprC3R//+8PCAsfHzx9fWIi0NAKysMGxYc1u+fx8//ggAvXrh9dfVnZvaLyPOGyVdcekSPv0Ux46hpubpj+zsMHculi6Fre3TH8nl6NoVAIYMQXZ2c9s/eBAzZwLAkiX47DN1pSbiST3phn//G66uOHToSYfa2KBjR+XygwfYuBH9+kEmExWQ6EVYo6QDtm7Fhx+ivh4AJk5EUhIePUJpKSoqIJcjNhZ9+wKAXA5fX2Rmig1L9BTWKImWk4OlSwFAIkFUFI4cgZ8fzM2Vn9rZITQUeXl4910AqKpCcDAqKoSlJXoGa5REW74cjx8DwN//jvnznz/G3BwHD2LIEAAoKEBUlPbiEb0Ma5SEunYNSUkAYG2NlSubG2ligvXrlcvbt4OXRklnsEZJqKQkZSFOn44OHV4y2NcXTk4AcOMGrl3TeDYi1bBGSaim60VeXi8fLJE8GcYLTaQzOP2ehCosVC4MGKDSeBcX5cLNm09/VFkJqbS57+bntyQZkapYoyRUWZlyoUsXlcY3DWv6YpOrV+HtraZYRC3Ak3oS6tEj5YKZmUrjLSyUC9XVGslD1HI8GiWhrK2VC5WVKo3/9Vflgo3N0x+5uCAhobnvHj+OxYtblI5IFaxREqqpDe/dU2n8/fvKhWdvrrewwMCBzX33p59aFI1IRTypJ6EGDVIu5OWpND43V7ng6qqRPEQtxxoloUaMUC4kJ798cEWF8tEkRkYYPlyDqYhagjVKQo0fj06dAODEiSeTn15kzx7l3fT+/s85qScShDVKQllZISwMAOrr8cEHUCheOPLevSd3i374oTayEamGNUqi/fOf6NEDAP77X8yZg6qq54wpLISPD+RyAJg6FePHazUhUbNYoySanR327lU+oTkuDv37Y+1aZGSgsBBXryIpCQsXwsUFly4BgIsLdu4Um5foKZzwRDrgjTeQkoIZM1BUhOJiREQ8f5ifHw4c4F9FSdfwaJR0w4gRuHoVmzdj6FBIfv9raWmJceNw9CiSkp7ToUZGMDVV/jTP2Fg5zIRHD6ROfKUd6Z7SUhQX4949mJvD3h6vvQZLS9GZiF6INUpE1CY8qSciahPWKAkll2P3bly+zJeCkP5ijZJQ5eU4fRoTJsDeHhMmYN06nD79/KmjRLqKfxsl3XD3LmQypKdDJkNeHlxc4OUFLy94e6NnT9HhiJrDGiXd8+gRsrORkQGpFL17IzJSdCCi5rBGSbT4eFRWYtQoDBz49IxRIn3A31oSzdoaWVkICICtLd5+G6tWITkZ5eWiYxGpikejpDPkcshkkEqRkYHz57FmDcLDRWciejnWKOmk2lpUVT15UxORDuNJPQlWWloaFBS0bdu28+fP19fXK9eamrJDSV+wRkkwMzMzPz+/vLy84OBgW1tbX1/fs2fPig5F1AI8qScdUlZWJpPJ3NzcHBwcRGchUhVrlIioTXhST+KtX79+xowZkZGRZWVlorMQtRifX0viBQcHOzk5yWQyRTOvtCPSVTypJyJqE57Uk3jnzp1btmzZ7du3RQchag3WKAm2YcOGYcOGbdiwwdHR0dHR8R//+Edtba3oUEQtwJN6Eik/P3/AgAEKhcLMzOzx48eNK3v06BEYGBgaGurq6io2HpEqWKMkkqOj4+3bt62trUtKSnJzc1etWnX9+vUrV640furi4hIaGhoWFta9e3exOYmawRolYXbt2vXee+9JJJIffvjBy8uraf3Fixfj4+O//PLL+/fvA5BIJD4+PiEhIdOmTevYsaO4vETPxxolMQoKCgYPHlxeXh4TExMWFvbsgPr6+tTU1Li4uMTExOrqagDW1taTJk0KDQ198803jYyMtB6Z6PlYoyRAXV2dt7d3VlZWcHBwfHx884N/+eWXhISEuLi4jIyMxl9XJyenwMDAefPm/eEPf9BKXqLmsEZJgIiIiLVr1zo5OV24cMHGxkbFb129enX//v3x8fE3btxoXOPh4RESEhIUFGRvb6+xsEQvwRolbZNKpWPGjGloaEhJSRk7dmxLv65QKDIyMuLj4/fv319eXg7A3Nzcz88vNDR0ypQppqam6k9M1CzWKGnVw4cP3d3dCwsLV6xYsWbNmrZs6tGjR0ePHo2Lizt+/HhdXR0AW1vb6dOnh4SEeHt7qykv0cuxRkmrQkJC9uzZ4+HhkZGRYWZmppZt/vzzz1999VVsbOz58+cb17i4uAQEBMyePbt3795q2QVRM1ijpD2JiYkBAQEdO3bMzs7u16+f2rffOFMqJibm3r17ACQSiaenZ2hoaGBgYKdOndS+O6JGrFHSklu3brm5uZWWlkZFRc2fP19zO2qaKXXo0KGqqioAlpaWEyZMCAkJGT9+vLGxseZ2Te0Ta5S0QaFQ+Pr6pqamTp48+fDhw9rZ6cOHD7/99tv4+PiUlJTG33NHR8egoKC5c+f27dtXOxmoPWCNkjZs2LBh2bJl3bp1y8vLe+WVV7S896Kiov379+/ataugoKBxTeNMqcDAwK5du2o5DBke1ihpXE5OjqenZ21t7bFjx8aPHy8wSXZ2dlxc3N69ex88eADAzMzM398/NDR08uTJ6rreRe0Qa5Q0q6qqysPD48qVK+Hh4ZGRkaLjAMCjR49OnDgRHx9/+PDhxofy2djYBAQEcKYUtQ5rlDTrr3/96xdffOHi4nLu3DlLS0vRcX7nzp07CQkJ8fHx2dnZjWv69+//pz/9KSwsrE+fPmKzkR5hjZIGHT9+fPz48WZmZllZWW5ubqLjvFDjTKnY2Ni7d+/iNzOlZs2a1blzZ9HpSNexRklT7t+/7+bmdvfu3S1btixatEh0nJdTKBQnT56Mi4v7+uuvKysr8ZuZUuPGjTMx4fsf6flYo6QRDQ0NkyZNOnbsmK+v7//+9z+JRJ9eV/PsTCkHB4dp06bNmTPH3d1ddDrSOaxR0oht27YtXLjQxsbmwoULTk5OouO0UnFx8b59+3bv3n3t2rXGNY0P5J8zZ063bt3EZiPdwRol9bt8+bKHh0d1dfXBgwdnzJghOo4aNM6U2rdvn1wuB2BsbPzGG2+EhIQEBATo2nUz0j7WKKlZTU3NyJEjc3Nz582bFx0dLTqOOtXU1CQlJf12plSXLl0mTpzIB/K3c6xRUrMlS5Zs2rTptddey83NNdTL3KWlpYmJiXFxcVKptHFNv379Zs6cGRAQMHDgQLHZSPtYo6ROaWlpPj4+RkZGP/zww8iRI0XH0bhLly4lJCTExsYWFhY2rrGyspo0adJnn33Wo0cPodFIe1ijpDa//PKLm5tbUVHRqlWrVq5cKTqO9tTX1ycnJ+/YsePIkSONa0xMTGJjYwMDA8UGI+1gjZLazJo168CBA15eXmlpae3zeXR37tyJiIhISEioqKhwcnIqKioSnYi0gTVK6hETEzNnzpxOnTrl5OS08xd2lpWVOTs7l5WVnT17dujQoaLjkMbp06Ro0lk3b94MDw8HsH379nbeoQBsbGzmzp0L4IsvvhCdhbSBR6PUVnV1daNHj5bJZNOmTUtMTBQdRycUFBT07dvX3Nz81q1btra2ouOQZvFolNpq7dq1MpnMwcEhKipKdBZd4ezs7O/vX11dHRMTIzoLaRyPRqlNzp075+XlVV9ff+LECR8fH9FxdMjRo0cnTZrk7Oycn5+vX48UoJbi/y61XmVlZVBQUG1t7eLFi9mhT3nnnXf69OlTUFBw4sQJ0VlIs1ij1HoLFy7Mz88fPHjw6tWrRWfRORKJ5L333gOwY8cO0VlIs3hST630zTffvPvuuxYWFmfOnBk0aJDoOLpILpc7OTk9fvz4+vXrfJy+AePRKLXG7du3G981v3nzZnboi9jb2wcEBCgUil27donOQhrEo1FqMYVC4e/vn5KS8tZbb33//fd8slEzMjMzPT097e3ti4uLLSwsRMchjeDRKLXY1q1bU1JSunbtGhMTww5t3siRI4cOHSqXyzmj1oCxRqllLl68GBERYWRktHv37u7du4uOowf+8pe/gBeaDBpP6qkFampqhg8fnpeXt2DBgu3bt4uOox+qq6sdHR1LS0vPnTvn4eEhOg6pH49GqQWWLFmSl5c3YMCAjRs3is6iNywtLWfPng3eYm+4eDRKqkpKSnr77bdNTEykUumwYcNEx9EnvMXesPFolFQil8tnz57d0NCwZs0admhLOTs7+/n5VVdXJyScFp2F1I9Ho6SSyZMnHzly5I9//GNqamr7fCRzGx0/fik8/DXA4soVcHaDgeHRaItduHBh7dq1Uqm08d2Q7cHOnTuPHDnSpUuX+Ph4dmjr+Pu71NZa5OeDd9gbHtZoix0+fDgiIsLb27tLly7e3t5Lly5NTk6uqakRnUtTrl+/vnjxYgA7duzo1auX6Dj6SiLB/PkAwIlPhocn9S2Wlpb21VdfnTp16uLFi03/eh06dPDy8hozZszYsWOHDx9uZmYmNqS61NXVeXt7Z2VlhYaGxsbGio6j3+RyODmhthbXr6N3b9FpSH1Yo61XUlKSmZkplUqTk5PPnz+vUCga11taWg4ZMsTb29vX19fb21uvbwFcvnz5+vXr+/Tpk5uba2VlJTqO3gsJwZ49WL4ca9eKjkLqwxpVj19//fXMmTPJycmGVKnp6eljx45taGg4efLkmDFjRMcxBDIZvLzQtSuKi2FuLjoNqQlrVP3Ky8uzsrKerVRTU1NXV1dfX1+9qNSHDx+6u7sXFhauXLly1apVouMYjqFDkZ2NvXvBl9gbDNaoZr2oUk1MTNzc3HS5UoOCgvbt2+fh4SGTyUxNTUXHMRzR0Zg/H15ekEpFRyE1YY1qjyqVOmrUKEtLS7E5Aezduzc4OLhjx445OTl9+/YVHcegVFfD0RGlpcjOxpAhotOQOrBGxdDlSr1165arq2tZWVl0dPS8efO0H8DgffQRtm7F/Pngq1QNA2tUvKZKTU9PP3PmTNOsfiGVqlAo3nzzzVOnTk2ZMuWbb77Rwh7boevX0a8fLCxw6xZsbESnoTZjjeqWioqKzMzMZip11KhRY8aM0dzco3Xr1q1YsaJnz555eXl2dnYa2gu99RaSkhAZifBw0VGozVijukv7lZqTk+Pp6VlbW/vdd9+NGzdOXZulZ337LaZMweuvIz+ft9jrPdaoftBCpVZVVQ0ZMuTq1auLFi3asmWLmoLT89XX4/XXUViIEyfg6ys6DbUNa1T/qFKpo0ePtra2btFm33///aioqIEDB549e1YXZgsYvHXrsGIFpk7F11+LjkJtwxrVb7+t1LNnzz5+/LhxfUsr9fDhw1OnTjU3Nz9z5oyrq6vmgxNKSuDkhLo6FBSAj3zRa6xRw1FZWSmTydLT06VSaVpamuqVeunSJTc3t7q6usjIyHBe8tCioCDs24f167F0qego1AasUcP0oko1NjZ2d3cfNWrU0KFDfXx8HBwcFApF9+7dS0pK7OzsSkpK+MJkbfrxRxQVYdw4SPjESn3GGjV85eXl6enpp06dOn36dHZ2dl1dXdNHnTt3trS0vH//vkQiyc7Odnd3F5iTSE+xRtuXpqPUuLi4mzdvNq1funTp+vXrBQZrh777DlVVAODs3NxdodnZuHEDAHx80DSRNzUVd+4AwMSJ6Ny5ub0cOACFAh06YMoU9cSmZ7FG26979+7t2rUrPT193rx5AQEBouO0O6++iuJiALCzw+XL6Nr1+cPef195z6hMhpEjlSv9/ZUvI7lyBf36NbcXY2MoFHBwwK1baktOTzERHYCEeeWVVyIiIkSnIDx4gGXLEB0tOge1Fv+yTSTef/6D1FTRIai1WKNEItnaolMnNDRg4UK0m1fNGhrWKJFI1tb4+GMAuHgRmzeLTkOtwholEmzxYnTvDgCrV+M3sydIb7BGiQTr1AmNk82qqrBggeg01HKsUSLxwsIwYgQAHD+OQ4dEp6EW4oQnIvGMjPCvf8HLCwoFwsPh5wcVH3mYlISfftJwOHoZ1iiRThgxAnPnIjoat2/j008RGanStz78UMOxSAU8qSfSFRs2wN4eALZtQ06O6DSkMtYoka6ws1Nea6qvxwcfQJX7tDMzIZc398NnR2kB/42JdMjcufD0BIDMTOzb9/LxXbrAzq65H9IC1iiRDpFIsHMnTEwA4JNPUFkpOhCpgDVKpFsGDVLOHr19G5s2iU5DKmCNEumc1avRsycAbNqkfK4o6TLWKJHOsbLCxo0AUFGBY8dEp6GX4bxRIl0UGIjdu3HypErX61snMxNHjqC4GBYWGD4cgYHo2FFT+zJsrFEiHfX553B1RU2N+rdcVYWwMCQmAoCVFcrLER2NDRuQkoLevdW/O4PHk3oiHdW3L/72N41s+ZNPkJiImTNRXIyHD/HgAaZPx40b+POfNbI7g8ejUSIxXn0VpqZwdGxuzMqVOHkSDx4AgIXFk/XdusHJCQBMTV++l/p69Ojxu5WjR6O6GlFRysn5NjbYvRvff4+TJ1FS8sK3QtGL8JV2RAQAgwcjNxc5ORg8WHQUfcOTeiICgLIyALC1FZ1DD7FGiQgXL6KoCL17o1cv0VH0EGuUiBARgYYGfPSR6Bz6iX8bJWrvtmzBxx/D2xunTsHYWHQaPcQaJWrXPv8cH3wAV1ekpsLGRnQa/cSTeqJ2qq4OH32EBQvg4oKkJHZo63HeKFF7VFKCWbOQkoJ33sHevbC2Fh1In/GknqjdkUoxYwZ+/hnh4fj0UxgZPfnI0vJ38/xJFaxRonbHwuKFt+pv2oSPP9ZuGv3Hk3qidmfRohc+OGr4cO1GMQg8GiUiahNeqSciahPWKBFRm7BGiYjahDVKRNQmrFEiojZhjRIRtcn/AZw9B6O68KKHAAABA3pUWHRyZGtpdFBLTCByZGtpdCAyMDIzLjA5LjYAAHice79v7T0GIOBnQAA2IGYF4gZGNoYEIM3IDKGZmNgYUkA0MyMHRIIRJsEO4TNxMzACSaAKFiYmFgYWVgYRkIHikSBJKGZgO3aL40Bkh+c+heUr91UfsN9/iJ17/9+FenaRK1jtEsyN7ZW+tNg1tXTaXedebl8dWrU//eQh+6fvHOz4ctXtS6W+2t9rc9yv/+boPnsmsHOFTEFOAPsgPj45P7egtCQ1JaAov6CYDdlHxbmZOanFDBxAprOzs4a/prOfsNU5sKPwaSUkjd9ikG3xzp4BzvkpqWDfB3MwUmghAWlhMQATtV7HnXtT6gAAARJ6VFh0TU9MIHJka2l0IDIwMjMuMDkuNgAAeJx9UTFuwzAM3P0KfiACKYoSNXSI7TQoishA6+YP3ft/lHThyFkqWcDpfCSP1AC+Pub37x94LJ6HAQD/+WqtcGdEHG7gAMbL9a3BtJ7HnZmWr7Z+QgaxCNvPyvO63HaGYIJTDMTKwnDCQDUrVkfM5NwjOLoUQ0kVmRxJYtQCFlNQ0qEMm9JYRolmIBTzmpOBKDUXtzS9Xl/irk6w+L+sohUoWBSmzUAtRXPpacXSUpBIpZDnV03kIFtx1K7L0ExXKWnBzbFY3bS1pFnyQXlp89M0/uYzLm3u8/Ed+wzsAtwbJTtp64d7P05Kd0128rHksYDf96czPPwCEitmFTvyikIAAAChelRYdFNNSUxFUyByZGtpdCAyMDIzLjA5LjYAAHicHY45DsJADEWvQplIk5H3JWmQhoIKDoA4B00OjzOVn/y/nj3GZ9yf3+W9jtftXDbqyMHaNuiYFpAXMSMrH0UuCYzXToUhvFXNQeWoyaCktXAAMCkgTXOtiCw0smGvCkx3uof5gV0JfVoiBLHAVACikkQp/3VTyyPzjzC1WNvvsVOn8w9kUya9eyYqKwAAAABJRU5ErkJggg==\"></td></tr>\n",
       "<tr><th style=\"text-align: right\">smiles</th><td style=\"text-align: left\">CCC(O)CN</td></tr></table>"
      ],
      "text/plain": [
       "<rdkit.Chem.rdchem.Mol at 0x747fcbeb8720>"
      ]
     },
     "execution_count": 12,
     "metadata": {},
     "output_type": "execute_result"
    }
   ],
   "source": [
    "iso1.molecules[0]._molecule"
   ]
  },
  {
   "cell_type": "code",
   "execution_count": 13,
   "metadata": {
    "execution": {
     "iopub.execute_input": "2024-10-28T05:50:19.816071Z",
     "iopub.status.busy": "2024-10-28T05:50:19.815778Z",
     "iopub.status.idle": "2024-10-28T05:50:19.824617Z",
     "shell.execute_reply": "2024-10-28T05:50:19.824240Z",
     "shell.execute_reply.started": "2024-10-28T05:50:19.816052Z"
    }
   },
   "outputs": [
    {
     "data": {
      "image/png": "[encoded data removed]",
      "text/html": [
       "<table><tr><td colspan=\"2\" style=\"text-align: center;\"><image src=\"data:image/png;base64,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\"></td></tr>\n",
       "<tr><th style=\"text-align: right\">smiles</th><td style=\"text-align: left\">CCC(O)CN</td></tr></table>"
      ],
      "text/plain": [
       "<rdkit.Chem.rdchem.Mol at 0x747fcbeb83b0>"
      ]
     },
     "execution_count": 13,
     "metadata": {},
     "output_type": "execute_result"
    }
   ],
   "source": [
    "iso1.molecules[1]._molecule"
   ]
  },
  {
   "cell_type": "code",
   "execution_count": 14,
   "metadata": {
    "execution": {
     "iopub.execute_input": "2024-10-28T05:50:44.339969Z",
     "iopub.status.busy": "2024-10-28T05:50:44.339801Z",
     "iopub.status.idle": "2024-10-28T05:50:44.342462Z",
     "shell.execute_reply": "2024-10-28T05:50:44.342174Z",
     "shell.execute_reply.started": "2024-10-28T05:50:44.339957Z"
    }
   },
   "outputs": [
    {
     "name": "stdout",
     "output_type": "stream",
     "text": [
      "\n",
      "     RDKit          3D\n",
      "\n",
      "  6  5  0  0  0  0  0  0  0  0999 V2000\n",
      "   -2.1384   -0.1968   -0.3314 C   0  0  0  0  0  0  0  0  0  0  0  0\n",
      "   -0.7490   -0.5431    0.1705 C   0  0  0  0  0  0  0  0  0  0  0  0\n",
      "    0.1305    0.7001    0.2597 C   0  0  2  0  0  0  0  0  0  0  0  0\n",
      "    0.2686    1.3050   -0.9779 O   0  0  0  0  0  0  0  0  0  0  0  0\n",
      "    1.5218    0.1884    0.6540 C   0  0  0  0  0  0  0  0  0  0  0  0\n",
      "    1.9149   -0.7560   -0.3866 N   0  0  0  0  0  0  0  0  0  0  0  0\n",
      "  1  2  1  0\n",
      "  2  3  1  0\n",
      "  3  4  1  6\n",
      "  3  5  1  0\n",
      "  5  6  1  0\n",
      "M  END\n",
      "\n"
     ]
    }
   ],
   "source": [
    "print(Chem.MolToMolBlock(iso1.molecules[0]._molecule))"
   ]
  },
  {
   "cell_type": "code",
   "execution_count": 15,
   "metadata": {
    "execution": {
     "iopub.execute_input": "2024-10-28T05:51:18.265288Z",
     "iopub.status.busy": "2024-10-28T05:51:18.264966Z",
     "iopub.status.idle": "2024-10-28T05:51:18.267276Z",
     "shell.execute_reply": "2024-10-28T05:51:18.266940Z",
     "shell.execute_reply.started": "2024-10-28T05:51:18.265271Z"
    }
   },
   "outputs": [],
   "source": [
    "#### SMILESを入力としてIsomerCollectionを返すノードを書いてみて下さい"
   ]
  },
  {
   "cell_type": "code",
   "execution_count": 16,
   "metadata": {
    "execution": {
     "iopub.execute_input": "2024-10-28T05:52:25.360997Z",
     "iopub.status.busy": "2024-10-28T05:52:25.360797Z",
     "iopub.status.idle": "2024-10-28T05:52:25.363879Z",
     "shell.execute_reply": "2024-10-28T05:52:25.363628Z",
     "shell.execute_reply.started": "2024-10-28T05:52:25.360981Z"
    }
   },
   "outputs": [],
   "source": [
    "class Smi2Mols(Node):\n",
    "    inp: Input[list[str]] = Input()\n",
    "    out: Output[list[IsomerCollection]] = Output()\n",
    "\n",
    "    def run(self) -> None:\n",
    "        smiles_list = self.inp.receive()\n",
    "        mols = [IsomerCollection.from_smiles(smi) for smi in smiles_list]\n",
    "        self.out.send(mols)"
   ]
  },
  {
   "cell_type": "code",
   "execution_count": 17,
   "metadata": {
    "execution": {
     "iopub.execute_input": "2024-10-28T05:53:14.025951Z",
     "iopub.status.busy": "2024-10-28T05:53:14.025727Z",
     "iopub.status.idle": "2024-10-28T05:53:15.821973Z",
     "shell.execute_reply": "2024-10-28T05:53:15.821504Z",
     "shell.execute_reply.started": "2024-10-28T05:53:14.025934Z"
    }
   },
   "outputs": [],
   "source": [
    "flow = Workflow()\n",
    "load = flow.add(LoadData[list[str]])\n",
    "emb = flow.add(Smi2Mols)\n",
    "ret = flow.add(Return[list[IsomerCollection]])\n",
    "flow.connect(load.out, emb.inp)\n",
    "flow.connect(emb.out, ret.inp)\n",
    "load.data.set(['CC', 'CCC(O)CN'])\n",
    "flow.check()"
   ]
  },
  {
   "cell_type": "code",
   "execution_count": 18,
   "metadata": {
    "execution": {
     "iopub.execute_input": "2024-10-28T05:53:18.075271Z",
     "iopub.status.busy": "2024-10-28T05:53:18.075092Z",
     "iopub.status.idle": "2024-10-28T05:53:19.695489Z",
     "shell.execute_reply": "2024-10-28T05:53:19.695027Z",
     "shell.execute_reply.started": "2024-10-28T05:53:18.075258Z"
    }
   },
   "outputs": [
    {
     "name": "stderr",
     "output_type": "stream",
     "text": [
      "2024-10-28 14:53:18,075 | \u001b[1;34m    INFO\u001b[0m |           76mhne | \n",
      "              ___           ___                       ___           ___\n",
      "             /\\__\\         /\\  \\          ___        /\\  \\         /\\  \\\n",
      "            /::|  |       /::\\  \\        /\\  \\       \\:\\  \\       /::\\  \\\n",
      "           /:|:|  |      /:/\\:\\  \\       \\:\\  \\       \\:\\  \\     /:/\\:\\  \\\n",
      "          /:/|:|__|__   /::\\~\\:\\  \\      /::\\__\\       \\:\\  \\   /::\\~\\:\\  \\\n",
      "         /:/ |::::\\__\\ /:/\\:\\ \\:\\__\\  __/:/\\/__/ _______\\:\\__\\ /:/\\:\\ \\:\\__\\\n",
      "         \\/__/~~/:/  / \\/__\\:\\/:/  / /\\/:/  /    \\::::::::/__/ \\:\\~\\:\\ \\/__/\n",
      "               /:/  /       \\::/  /  \\::/__/      \\:\\~~\\~~      \\:\\ \\:\\__\\\n",
      "              /:/  /        /:/  /    \\:\\__\\       \\:\\  \\        \\:\\ \\/__/\n",
      "             /:/  /        /:/  /      \\/__/        \\:\\__\\        \\:\\__\\\n",
      "             \\/__/         \\/__/                     \\/__/         \\/__/\n",
      "\n",
      "\n",
      "2024-10-28 14:53:18,076 | \u001b[1;34m    INFO\u001b[0m |           76mhne | Starting Maize version 0.8.3 (c) AstraZeneca 2024\n",
      "2024-10-28 14:53:18,077 | \u001b[1;34m    INFO\u001b[0m |           76mhne | Running workflow '76mhne' with parameters:\n",
      "2024-10-28 14:53:18,077 | \u001b[1;34m    INFO\u001b[0m |           76mhne | data = ['CC', 'CCC(O)CN'] (from 'loaddata')\n",
      "2024-10-28 14:53:18,827 | \u001b[1;34m    INFO\u001b[0m |           76mhne | Node 'return' finished (1/3)\n",
      "2024-10-28 14:53:19,180 | \u001b[1;34m    INFO\u001b[0m |           76mhne | Node 'loaddata' finished (2/3)\n",
      "2024-10-28 14:53:19,187 | \u001b[1;34m    INFO\u001b[0m |           76mhne | Node 'smi2mols' finished (3/3)\n",
      "2024-10-28 14:53:19,688 | \u001b[1;34m    INFO\u001b[0m |           76mhne | Execution completed :) total runtime: 0:00:01.096825\n",
      "\t3 nodes completed successfully\n",
      "\t0 nodes stopped due to closing ports\n",
      "\t0 nodes failed\n",
      "\t0:00:01.101824 total walltime\n",
      "\t0:00:01.093759 spent waiting for resources or other nodes\n"
     ]
    }
   ],
   "source": [
    "flow.execute()"
   ]
  },
  {
   "cell_type": "code",
   "execution_count": 19,
   "metadata": {
    "execution": {
     "iopub.execute_input": "2024-10-28T05:53:31.835343Z",
     "iopub.status.busy": "2024-10-28T05:53:31.835136Z",
     "iopub.status.idle": "2024-10-28T05:53:31.837486Z",
     "shell.execute_reply": "2024-10-28T05:53:31.837182Z",
     "shell.execute_reply.started": "2024-10-28T05:53:31.835331Z"
    }
   },
   "outputs": [],
   "source": [
    "results = ret.get()"
   ]
  },
  {
   "cell_type": "code",
   "execution_count": 20,
   "metadata": {
    "execution": {
     "iopub.execute_input": "2024-10-28T05:53:36.663187Z",
     "iopub.status.busy": "2024-10-28T05:53:36.663021Z",
     "iopub.status.idle": "2024-10-28T05:53:36.666302Z",
     "shell.execute_reply": "2024-10-28T05:53:36.665933Z",
     "shell.execute_reply.started": "2024-10-28T05:53:36.663173Z"
    }
   },
   "outputs": [
    {
     "data": {
      "text/plain": [
       "[IsomerCollection('CC', n_isomers=1),\n",
       " IsomerCollection('CCC(O)CN', n_isomers=2)]"
      ]
     },
     "execution_count": 20,
     "metadata": {},
     "output_type": "execute_result"
    }
   ],
   "source": [
    "results"
   ]
  },
  {
   "cell_type": "code",
   "execution_count": null,
   "metadata": {},
   "outputs": [],
   "source": []
  },
  {
   "cell_type": "markdown",
   "metadata": {},
   "source": [
    "#### Appendix XTB calculation\n",
    "- このコードを利用するためには同じ環境下に追加でXTBをインストールする必要があります\n",
    "- [XTB](https://xtb-docs.readthedocs.io/en/latest/)は半経験的な量子科学計算のパッケージです。\n",
    "- Maizeを利用することで入力部分の作成に労を割くことなく計算を実施できます。\n",
    "- 入力はSMILESとし、そのSMILESをGypSumで3次元化次いでXTBでの計算を流すというワークフローになります。\n",
    "- \n",
    "```bash\n",
    "conda install -c conda-forge xtb\n",
    "```"
   ]
  },
  {
   "cell_type": "code",
   "execution_count": null,
   "metadata": {},
   "outputs": [],
   "source": [
    "from maize.steps.mai.molecule.xtb import Xtb\n",
    "\n",
    "class SetName(Node):\n",
    "    inp: Input[list[IsomerCollection]] = Input()\n",
    "    out: Output[list[IsomerCollection]] = Output()\n",
    "    def run(self):\n",
    "        res = []\n",
    "        for i, iso in enumerate(self.inp.receive()):\n",
    "            iso.set_tag('component', f'mol_{i}')\n",
    "            res.append(iso)\n",
    "\n",
    "        self.out.send(res)"
   ]
  },
  {
   "cell_type": "code",
   "execution_count": null,
   "metadata": {},
   "outputs": [],
   "source": [
    "flow = Workflow(name='xtb', cleanup_temp=True)\n",
    "load = flow.add(LoadData[list[str]])\n",
    "# あとでGypSumの説明をしますが、このノードも配座発生に利用するノードです。\n",
    "emb = flow.add(Gypsum)\n",
    "setname = flow.add(SetName)\n",
    "qm = flow.add(Xtb)\n",
    "res = flow.add(Return[list[IsomerCollection]])\n",
    "# 入力はSMILESリストとしています\n",
    "load.data.set(['c1ccccc1', 'c1cnccc1'])\n",
    "# xtbノードは内部で並列処理をするのですがデフォルトで100並列の設定になっておりそのまま実施すると100 coreない場合エラーになります。\n",
    "qm.n_jobs.set(5)\n",
    "# 計算結果を格納するフォルダを指定します。\n",
    "qm.fold.set('./xtbres')"
   ]
  },
  {
   "cell_type": "code",
   "execution_count": null,
   "metadata": {},
   "outputs": [],
   "source": [
    "flow.connect(load.out, emb.inp)\n",
    "flow.connect(emb.out, setname.inp)\n",
    "flow.connect(setname.out, qm.inp)\n",
    "flow.connect(qm.out, res.inp)\n",
    "flow.check()"
   ]
  },
  {
   "cell_type": "code",
   "execution_count": null,
   "metadata": {},
   "outputs": [],
   "source": [
    "flow.visualize()"
   ]
  },
  {
   "cell_type": "code",
   "execution_count": null,
   "metadata": {},
   "outputs": [],
   "source": [
    "flow.execute()"
   ]
  },
  {
   "cell_type": "code",
   "execution_count": null,
   "metadata": {},
   "outputs": [],
   "source": [
    "res.get()[0].molecules[0]._molecule"
   ]
  },
  {
   "cell_type": "code",
   "execution_count": null,
   "metadata": {},
   "outputs": [],
   "source": []
  }
 ],
 "metadata": {
  "kernelspec": {
   "display_name": "Python 3 (ipykernel)",
   "language": "python",
   "name": "python3"
  },
  "language_info": {
   "codemirror_mode": {
    "name": "ipython",
    "version": 3
   },
   "file_extension": ".py",
   "mimetype": "text/x-python",
   "name": "python",
   "nbconvert_exporter": "python",
   "pygments_lexer": "ipython3",
   "version": "3.10.15"
  }
 },
 "nbformat": 4,
 "nbformat_minor": 4
}
